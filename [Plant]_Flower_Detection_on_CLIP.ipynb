{
  "nbformat": 4,
  "nbformat_minor": 0,
  "metadata": {
    "colab": {
      "provenance": [],
      "collapsed_sections": [
        "_esJbuPb_hNS",
        "c8u1r7L3_BhK"
      ],
      "include_colab_link": true
    },
    "kernelspec": {
      "name": "python3",
      "display_name": "Python 3"
    },
    "language_info": {
      "name": "python"
    }
  },
  "cells": [
    {
      "cell_type": "markdown",
      "metadata": {
        "id": "view-in-github",
        "colab_type": "text"
      },
      "source": [
        "<a href=\"https://colab.research.google.com/github/swguo/Plant-Classification/blob/main/%5BPlant%5D_Flower_Detection_on_CLIP.ipynb\" target=\"_parent\"><img src=\"https://colab.research.google.com/assets/colab-badge.svg\" alt=\"Open In Colab\"/></a>"
      ]
    },
    {
      "cell_type": "code",
      "execution_count": null,
      "metadata": {
        "colab": {
          "base_uri": "https://localhost:8080/"
        },
        "id": "FyCNkNF9-NYA",
        "outputId": "0bfc0280-4c66-4b42-b71d-c365c141224b"
      },
      "outputs": [
        {
          "output_type": "stream",
          "name": "stdout",
          "text": [
            "Requirement already satisfied: transformers in /usr/local/lib/python3.10/dist-packages (4.38.2)\n",
            "Requirement already satisfied: filelock in /usr/local/lib/python3.10/dist-packages (from transformers) (3.13.1)\n",
            "Requirement already satisfied: huggingface-hub<1.0,>=0.19.3 in /usr/local/lib/python3.10/dist-packages (from transformers) (0.20.3)\n",
            "Requirement already satisfied: numpy>=1.17 in /usr/local/lib/python3.10/dist-packages (from transformers) (1.25.2)\n",
            "Requirement already satisfied: packaging>=20.0 in /usr/local/lib/python3.10/dist-packages (from transformers) (23.2)\n",
            "Requirement already satisfied: pyyaml>=5.1 in /usr/local/lib/python3.10/dist-packages (from transformers) (6.0.1)\n",
            "Requirement already satisfied: regex!=2019.12.17 in /usr/local/lib/python3.10/dist-packages (from transformers) (2023.12.25)\n",
            "Requirement already satisfied: requests in /usr/local/lib/python3.10/dist-packages (from transformers) (2.31.0)\n",
            "Requirement already satisfied: tokenizers<0.19,>=0.14 in /usr/local/lib/python3.10/dist-packages (from transformers) (0.15.2)\n",
            "Requirement already satisfied: safetensors>=0.4.1 in /usr/local/lib/python3.10/dist-packages (from transformers) (0.4.2)\n",
            "Requirement already satisfied: tqdm>=4.27 in /usr/local/lib/python3.10/dist-packages (from transformers) (4.66.2)\n",
            "Requirement already satisfied: fsspec>=2023.5.0 in /usr/local/lib/python3.10/dist-packages (from huggingface-hub<1.0,>=0.19.3->transformers) (2023.6.0)\n",
            "Requirement already satisfied: typing-extensions>=3.7.4.3 in /usr/local/lib/python3.10/dist-packages (from huggingface-hub<1.0,>=0.19.3->transformers) (4.10.0)\n",
            "Requirement already satisfied: charset-normalizer<4,>=2 in /usr/local/lib/python3.10/dist-packages (from requests->transformers) (3.3.2)\n",
            "Requirement already satisfied: idna<4,>=2.5 in /usr/local/lib/python3.10/dist-packages (from requests->transformers) (3.6)\n",
            "Requirement already satisfied: urllib3<3,>=1.21.1 in /usr/local/lib/python3.10/dist-packages (from requests->transformers) (2.0.7)\n",
            "Requirement already satisfied: certifi>=2017.4.17 in /usr/local/lib/python3.10/dist-packages (from requests->transformers) (2024.2.2)\n"
          ]
        }
      ],
      "source": [
        "!pip install transformers"
      ]
    },
    {
      "cell_type": "code",
      "source": [
        "from PIL import Image\n",
        "import torch\n",
        "import argparse,requests\n",
        "from transformers import CLIPProcessor, CLIPModel"
      ],
      "metadata": {
        "id": "muYyVwYy-ZJt"
      },
      "execution_count": null,
      "outputs": []
    },
    {
      "cell_type": "markdown",
      "source": [
        "## Setting"
      ],
      "metadata": {
        "id": "_esJbuPb_hNS"
      }
    },
    {
      "cell_type": "code",
      "source": [
        "_NAMES = [\n",
        "    \"pink primrose\",\n",
        "    \"hard-leaved pocket orchid\",\n",
        "    \"canterbury bells\",\n",
        "    \"sweet pea\",\n",
        "    \"english marigold\",\n",
        "    \"tiger lily\",\n",
        "    \"moon orchid\",\n",
        "    \"bird of paradise\",\n",
        "    \"monkshood\",\n",
        "    \"globe thistle\",\n",
        "    \"snapdragon\",\n",
        "    \"colt's foot\",\n",
        "    \"king protea\",\n",
        "    \"spear thistle\",\n",
        "    \"yellow iris\",\n",
        "    \"globe-flower\",\n",
        "    \"purple coneflower\",\n",
        "    \"peruvian lily\",\n",
        "    \"balloon flower\",\n",
        "    \"giant white arum lily\",\n",
        "    \"fire lily\",\n",
        "    \"pincushion flower\",\n",
        "    \"fritillary\",\n",
        "    \"red ginger\",\n",
        "    \"grape hyacinth\",\n",
        "    \"corn poppy\",\n",
        "    \"prince of wales feathers\",\n",
        "    \"stemless gentian\",\n",
        "    \"artichoke\",\n",
        "    \"sweet william\",\n",
        "    \"carnation\",\n",
        "    \"garden phlox\",\n",
        "    \"love in the mist\",\n",
        "    \"mexican aster\",\n",
        "    \"alpine sea holly\",\n",
        "    \"ruby-lipped cattleya\",\n",
        "    \"cape flower\",\n",
        "    \"great masterwort\",\n",
        "    \"siam tulip\",\n",
        "    \"lenten rose\",\n",
        "    \"barbeton daisy\",\n",
        "    \"daffodil\",\n",
        "    \"sword lily\",\n",
        "    \"poinsettia\",\n",
        "    \"bolero deep blue\",\n",
        "    \"wallflower\",\n",
        "    \"marigold\",\n",
        "    \"buttercup\",\n",
        "    \"oxeye daisy\",\n",
        "    \"common dandelion\",\n",
        "    \"petunia\",\n",
        "    \"wild pansy\",\n",
        "    \"primula\",\n",
        "    \"sunflower\",\n",
        "    \"pelargonium\",\n",
        "    \"bishop of llandaff\",\n",
        "    \"gaura\",\n",
        "    \"geranium\",\n",
        "    \"orange dahlia\",\n",
        "    \"pink-yellow dahlia?\",\n",
        "    \"cautleya spicata\",\n",
        "    \"japanese anemone\",\n",
        "    \"black-eyed susan\",\n",
        "    \"silverbush\",\n",
        "    \"californian poppy\",\n",
        "    \"osteospermum\",\n",
        "    \"spring crocus\",\n",
        "    \"bearded iris\",\n",
        "    \"windflower\",\n",
        "    \"tree poppy\",\n",
        "    \"gazania\",\n",
        "    \"azalea\",\n",
        "    \"water lily\",\n",
        "    \"rose\",\n",
        "    \"thorn apple\",\n",
        "    \"morning glory\",\n",
        "    \"passion flower\",\n",
        "    \"lotus\",\n",
        "    \"toad lily\",\n",
        "    \"anthurium\",\n",
        "    \"frangipani\",\n",
        "    \"clematis\",\n",
        "    \"hibiscus\",\n",
        "    \"columbine\",\n",
        "    \"desert-rose\",\n",
        "    \"tree mallow\",\n",
        "    \"magnolia\",\n",
        "    \"cyclamen\",\n",
        "    \"watercress\",\n",
        "    \"canna lily\",\n",
        "    \"hippeastrum\",\n",
        "    \"bee balm\",\n",
        "    \"ball moss\",\n",
        "    \"foxglove\",\n",
        "    \"bougainvillea\",\n",
        "    \"camellia\",\n",
        "    \"mallow\",\n",
        "    \"mexican petunia\",\n",
        "    \"bromelia\",\n",
        "    \"blanket flower\",\n",
        "    \"trumpet creeper\",\n",
        "    \"blackberry lily\",\n",
        "]"
      ],
      "metadata": {
        "id": "y5kfNcvR-cl2"
      },
      "execution_count": null,
      "outputs": []
    },
    {
      "cell_type": "markdown",
      "source": [
        "## Main Program (Image2Text)"
      ],
      "metadata": {
        "id": "uGnlC2Z5_lqI"
      }
    },
    {
      "cell_type": "code",
      "source": [
        "class Image2Text:\n",
        "    def __init__(self,base_model):\n",
        "        model_name = base_model\n",
        "        self.model = CLIPModel.from_pretrained(f\"{model_name}\")\n",
        "        self.processor = CLIPProcessor.from_pretrained(f\"{model_name}\")\n",
        "\n",
        "    def predict(self,image_url):\n",
        "\n",
        "        image = Image.open(requests.get(image_url, stream=True).raw)\n",
        "\n",
        "        inputs = self.processor(\n",
        "            text=_NAMES, images=image, return_tensors=\"pt\", padding=True\n",
        "        )\n",
        "\n",
        "        outputs = self.model(**inputs)\n",
        "        logits_per_image = outputs.logits_per_image\n",
        "        probs = logits_per_image.softmax(dim=1)\n",
        "        class_id = torch.argmax(probs)\n",
        "        return class_id.item()"
      ],
      "metadata": {
        "id": "JtX6p10m-ge7"
      },
      "execution_count": null,
      "outputs": []
    },
    {
      "cell_type": "code",
      "source": [
        "def run(base_model, image_url):\n",
        "\n",
        "    image2txt = Image2Text(base_model)\n",
        "\n",
        "    y_pred = image2txt.predict(image_url = image_url)\n",
        "\n",
        "    print(f'y_pred : Class_id : {y_pred}, Name : {_NAMES[y_pred]}')"
      ],
      "metadata": {
        "id": "cqHzC07H-o_X"
      },
      "execution_count": null,
      "outputs": []
    },
    {
      "cell_type": "markdown",
      "source": [
        "## Inference"
      ],
      "metadata": {
        "id": "c8u1r7L3_BhK"
      }
    },
    {
      "cell_type": "code",
      "source": [
        "from IPython.display import display # to display images\n",
        "import requests\n",
        "from PIL import Image"
      ],
      "metadata": {
        "id": "L3Hv3OjTAEUo"
      },
      "execution_count": null,
      "outputs": []
    },
    {
      "cell_type": "markdown",
      "source": [
        "### frangipani 雞蛋花"
      ],
      "metadata": {
        "id": "kCcmYnJNAPJR"
      }
    },
    {
      "cell_type": "code",
      "source": [
        "base_model = 'openai/clip-vit-large-patch14'\n",
        "image_url = 'https://zurma.co.nz/cdn/shop/products/frangipaniabsolute_x668@2x.jpg'"
      ],
      "metadata": {
        "id": "4DzrvGEF-9sx"
      },
      "execution_count": null,
      "outputs": []
    },
    {
      "cell_type": "code",
      "source": [
        "\n",
        "size = 128, 128\n",
        "im = Image.open(requests.get(image_url, stream=True).raw)\n",
        "im.thumbnail(size, Image.Resampling.LANCZOS)\n",
        "display(im)"
      ],
      "metadata": {
        "colab": {
          "base_uri": "https://localhost:8080/",
          "height": 145
        },
        "id": "C5e48d8T_EJj",
        "outputId": "15d1a9d3-5b47-407c-dd31-c79415fb8d58"
      },
      "execution_count": null,
      "outputs": [
        {
          "output_type": "display_data",
          "data": {
            "text/plain": [
              "<PIL.JpegImagePlugin.JpegImageFile image mode=RGB size=128x128>"
            ],
            "image/png": "[encoded data removed]"
          },
          "metadata": {}
        }
      ]
    },
    {
      "cell_type": "code",
      "source": [
        "run(base_model, image_url)"
      ],
      "metadata": {
        "colab": {
          "base_uri": "https://localhost:8080/"
        },
        "id": "mfePu8Zu_JBm",
        "outputId": "2fa9a3cd-8529-4d56-8340-fa70c5413c52"
      },
      "execution_count": null,
      "outputs": [
        {
          "output_type": "stream",
          "name": "stdout",
          "text": [
            "y_pred : Class_id : 80, Name : frangipani\n"
          ]
        }
      ]
    },
    {
      "cell_type": "markdown",
      "source": [
        "### Yellow Iris (黃鳶尾)"
      ],
      "metadata": {
        "id": "t949u34_ARY3"
      }
    },
    {
      "cell_type": "code",
      "source": [
        "base_model = 'openai/clip-vit-large-patch14'\n",
        "image_url = 'https://www.vmcdn.ca/f/files/orilliamatters/images/outdoors/yellow-iris-002.JPG'"
      ],
      "metadata": {
        "id": "v1pEmdKCAVX9"
      },
      "execution_count": null,
      "outputs": []
    },
    {
      "cell_type": "code",
      "source": [
        "\n",
        "size = 128, 128\n",
        "im = Image.open(requests.get(image_url, stream=True).raw)\n",
        "im.thumbnail(size, Image.Resampling.LANCZOS)\n",
        "display(im)"
      ],
      "metadata": {
        "colab": {
          "base_uri": "https://localhost:8080/",
          "height": 145
        },
        "id": "fVUXjXAuAZMB",
        "outputId": "da997500-c49d-463d-d8bd-e3d0d126e696"
      },
      "execution_count": null,
      "outputs": [
        {
          "output_type": "display_data",
          "data": {
            "text/plain": [
              "<PIL.JpegImagePlugin.JpegImageFile image mode=RGB size=96x128>"
            ],
            "image/png": "[encoded data removed]"
          },
          "metadata": {}
        }
      ]
    },
    {
      "cell_type": "code",
      "source": [
        "run(base_model, image_url)"
      ],
      "metadata": {
        "colab": {
          "base_uri": "https://localhost:8080/"
        },
        "id": "QBn3RXLrAclS",
        "outputId": "f45c8578-9980-4313-cc28-24a2fa0f8b10"
      },
      "execution_count": null,
      "outputs": [
        {
          "output_type": "stream",
          "name": "stdout",
          "text": [
            "y_pred : Class_id : 14, Name : yellow iris\n"
          ]
        }
      ]
    },
    {
      "cell_type": "markdown",
      "source": [
        "## Flower 102 Names"
      ],
      "metadata": {
        "id": "-9W7e9vXA3fy"
      }
    },
    {
      "cell_type": "markdown",
      "source": [
        "\n",
        "| Item No. | English Name                   | Chinese Name             |\n",
        "|----------|--------------------------------|--------------------------|\n",
        "| 1        | Pink Primrose                  | 粉色報春花               |\n",
        "| 2        | Hard-leaved Pocket Orchid      | 硬葉袋蘭                 |\n",
        "| 3        | Canterbury Bells               | 康乃馨鐘花               |\n",
        "| 4        | Sweet Pea                      | 甜豌豆                   |\n",
        "| 5        | English Marigold               | 英國萬壽菊               |\n",
        "| 6        | Tiger Lily                     | 虎百合                   |\n",
        "| 7        | Moon Orchid                    | 月蘭                     |\n",
        "| 8        | Bird of Paradise               | 天堂鳥                   |\n",
        "| 9        | Monkshood                      | 狼毒花                   |\n",
        "| 10       | Globe Thistle                  | 球蓟                     |\n",
        "| 11       | Snapdragon                     | 金魚草                   |\n",
        "| 12       | Colt's Foot                    | 款冬花                   |\n",
        "| 13       | King Protea                    | 國王鳳冠                 |\n",
        "| 14       | Spear Thistle                  | 長矛薊                   |\n",
        "| 15       | Yellow Iris                    | 黃鳶尾                   |\n",
        "| 16       | Globe-flower                   | 球花                     |\n",
        "| 17       | Purple Coneflower              | 紫錐花                   |\n",
        "| 18       | Peruvian Lily                  | 秘魯百合                 |\n",
        "| 19       | Balloon Flower                 | 桔梗                     |\n",
        "| 20       | Giant White Arum Lily          | 巨大白色海芋             |\n",
        "| 21       | Fire Lily                      | 火百合                   |\n",
        "| 22       | Pincushion Flower              | 針球花                   |\n",
        "| 23       | Fritillary                     | 貫葉                     |\n",
        "| 24       | Red Ginger                     | 紅薑                     |\n",
        "| 25       | Grape Hyacinth                 | 風信子                   |\n",
        "| 26       | Corn Poppy                     | 罌粟                     |\n",
        "| 27       | Prince of Wales Feathers       | 威爾斯王子的羽毛         |\n",
        "| 28       | Stemless Gentian               | 無梗龍膽                 |\n",
        "| 29       | Artichoke                      | 朝鮮薊                   |\n",
        "| 30       | Sweet William                  | 庭院石竹                 |\n",
        "| 31       | Carnation                      | 康乃馨                   |\n",
        "| 32       | Garden Phlox                   | 園丁福祿考               |\n",
        "| 33       | Love in the Mist               | 薄霧中的愛               |\n",
        "| 34       | Mexican Aster                  | 墨西哥紫菀               |\n",
        "| 35       | Alpine Sea Holly               | 高山刺葵                 |\n",
        "| 36       | Ruby-lipped Cattleya           | 紅唇卡特里亞             |\n",
        "| 37       | Cape Flower                    | 開普花                   |\n",
        "| 38       | Great Masterwort               | 大繡球花                 |\n",
        "| 39       | Siam Tulip                     | 暹羅鬱金香               |\n",
        "| 40       | Lenten Rose                    | 四旬節玫瑰               |\n",
        "| 41       | Barbeton Daisy                 | 巴貝頓雛菊               |\n",
        "| 42       | Daffodil                       | 水仙                     |\n",
        "| 43       | Sword Lily                     | 劍百合                   |\n",
        "| 44       | Poinsettia                     | 一品紅                   |\n",
        "| 45       | Bolero Deep Blue               | 波萊羅深藍               |\n",
        "| 46       | Wallflower                     | 墻花                     |\n",
        "| 47       | Marigol                        | 萬壽菊                   |\n",
        "| 48       | Buttercup                      | 毛茛                     |\n",
        "| 49       | Oxeye Daisy                    | 牛眼菊                   |\n",
        "| 50       | Common Dandelion               | 蒲公英                   |\n",
        "| 51       | Petunia                        | 矮牽牛                   |"
      ],
      "metadata": {
        "id": "vyuZGQJkA8Uy"
      }
    },
    {
      "cell_type": "markdown",
      "source": [
        "| Item No. | English Name                   | Chinese Name             |\n",
        "|----------|--------------------------------|--------------------------|\n",
        "| 52       | Wild Pansy                     | 野生三色堇               |\n",
        "| 53       | Primula                        | 報春花                   |\n",
        "| 54       | Sunflower                      | 向日葵                   |\n",
        "| 55       | Pelargonium                    | 天竺葵                   |\n",
        "| 56       | Bishop of Llandaff             | 蘭達夫主教               |\n",
        "| 57       | Gaura                          | 草珊瑚                   |\n",
        "| 58       | Geranium                       | 老鷹爪                   |\n",
        "| 59       | Orange Dahlia                  | 橙色大麗花               |\n",
        "| 60       | Pink-yellow Dahlia             | 粉黃大麗花               |\n",
        "| 61       | Cautleya spicata               | 花蔓姜                   |\n",
        "| 62       | Japanese Anemone               | 日本銀蓮花               |\n",
        "| 63       | Black-eyed Susan               | 黑眼蘇珊                 |\n",
        "| 64       | Silverbush                     | 銀灌木                   |\n",
        "| 65       | Californian Poppy              | 加州罌粟                 |\n",
        "| 66       | Osteospermum                   | 非洲菊                   |\n",
        "| 67       | Spring Crocus                  | 春番紅花                 |\n",
        "| 68       | Bearded Iris                   | 鬚鳶尾                   |\n",
        "| 69       | Windflower                     | 風花                     |\n",
        "| 70       | Tree Poppy                     | 樹罌粟                   |\n",
        "| 71       | Gazania                        | 百日菊                   |\n",
        "| 72       | Azalea                         | 杜鵑花                   |\n",
        "| 73       | Water Lily                     | 睡蓮                     |\n",
        "| 74       | Rose                           | 玫瑰                     |\n",
        "| 75       | Thorn Apple                    | 曼陀羅                   |\n",
        "| 76       | Morning Glory                  | 牽牛花                   |\n",
        "| 77       | Passion Flower                 | 西番蓮                   |\n",
        "| 78       | Lotus                          | 蓮花                     |\n",
        "| 79       | Toad Lily                      | 蟾蜍百合                 |\n",
        "| 80       | Anthurium                      | 花烏頭                   |\n",
        "| 81       | Frangipani                     | 鳳仙花                   |\n",
        "| 82       | Clematis                       | 鐵線蓮                   |\n",
        "| 83       | Hibiscus                       | 木槿                     |\n",
        "| 84       | Columbine                      | 耧斗菜                   |\n",
        "| 85       | Desert-rose                    | 沙漠玫瑰                 |\n",
        "| 86       | Tree Mallow                    | 樹錦葵                   |\n",
        "| 87       | Magnolia                       | 木蘭花                   |\n",
        "| 88       | Cyclamen                       | 仙客來                   |\n",
        "| 89       | Watercress                     | 西洋菜                   |\n",
        "| 90       | Canna Lily                     | 美人蕉                   |\n",
        "| 91       | Hippeastrum                    | 孤挺花                   |\n",
        "| 92       | Bee Balm                       | 馬鞭草                   |\n",
        "| 93       | Ball Moss                      | 球蘚                     |\n",
        "| 94       | Foxglove                       | 洋地黃                   |\n",
        "| 95       | Bougainvillea                  | 九重葛                   |\n",
        "| 96       | Camellia                       | 山茶花                   |\n",
        "| 97       | Mallow                         | 錦葵                     |\n",
        "| 98       | Mexican Petunia                | 墨西哥牽牛               |\n",
        "| 99       | Bromelia                       | 鳳梨科                   |\n",
        "| 100      | Blanket Flower                 | 蓋毯花                   |\n",
        "| 101      | Trumpet Creeper                | 喇叭藤                   |\n",
        "| 102      | Blackberry Lily                | 黑莓百合                 |"
      ],
      "metadata": {
        "id": "jP48s3S1A_5f"
      }
    },
    {
      "cell_type": "markdown",
      "source": [],
      "metadata": {
        "id": "d_SXRdwq-4x2"
      }
    }
  ]
}