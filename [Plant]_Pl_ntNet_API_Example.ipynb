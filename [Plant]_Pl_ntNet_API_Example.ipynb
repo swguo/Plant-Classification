{
  "nbformat": 4,
  "nbformat_minor": 0,
  "metadata": {
    "colab": {
      "provenance": [],
      "collapsed_sections": [
        "4dhVAbAN39ZA",
        "-foy2Qta5KDh",
        "lE3fza_Q5fHj",
        "lp8h1EK16EKY",
        "0MqAQk736Vv2",
        "W_mRTPNm6brS"
      ],
      "authorship_tag": "ABX9TyNFjsRpqKuXTrt4AaDgKp4E",
      "include_colab_link": true
    },
    "kernelspec": {
      "name": "python3",
      "display_name": "Python 3"
    },
    "language_info": {
      "name": "python"
    }
  },
  "cells": [
    {
      "cell_type": "markdown",
      "metadata": {
        "id": "view-in-github",
        "colab_type": "text"
      },
      "source": [
        "<a href=\"https://colab.research.google.com/github/swguo/Plant-Classification/blob/main/%5BPlant%5D_Pl_ntNet_API_Example.ipynb\" target=\"_parent\"><img src=\"https://colab.research.google.com/assets/colab-badge.svg\" alt=\"Open In Colab\"/></a>"
      ]
    },
    {
      "cell_type": "markdown",
      "source": [
        "![image.png](data:image/png;base64,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)"
      ],
      "metadata": {
        "id": "QKfLh1nbrYN7"
      }
    },
    {
      "cell_type": "markdown",
      "source": [
        "官方網站 : https://my.plantnet.org/\n",
        "\n",
        "GitHub : https://github.com/plantnet/my.plantnet\n",
        "\n",
        "提供的服務:\n",
        "\n",
        "1. 植物類型分類\n",
        "2. 植物物種分類\n",
        "\n",
        "特色:\n",
        "1. 支援多國語系\n",
        "\n",
        "\n",
        "限制:\n",
        "1. 每日限流 500\n",
        "2. 一次只能辨識一種植物(多張圖)"
      ],
      "metadata": {
        "id": "aFiPXLODrYE6"
      }
    },
    {
      "cell_type": "code",
      "execution_count": 7,
      "metadata": {
        "id": "X--uf0j6pfKO"
      },
      "outputs": [],
      "source": [
        "import requests\n",
        "import json\n",
        "from pprint import pprint\n",
        "from PIL import Image\n",
        "from io import BytesIO"
      ]
    },
    {
      "cell_type": "markdown",
      "source": [
        "## API Setting"
      ],
      "metadata": {
        "id": "JHWiEna14Jsn"
      }
    },
    {
      "cell_type": "code",
      "source": [
        "API_KEY = \"2b10bwXAVonATTlNTwIaHBWgu\"  # Set you API_KEY here\n",
        "PROJECT = \"all\" # try \"weurope\" or \"canada\"\n",
        "lang = \"zh-tw\"\n",
        "api_endpoint = f\"https://my-api.plantnet.org/v2/identify/{PROJECT}?api-key={API_KEY}\""
      ],
      "metadata": {
        "id": "npDtCJml3zr-"
      },
      "execution_count": 2,
      "outputs": []
    },
    {
      "cell_type": "markdown",
      "source": [
        "## 圖源:黃金葛\n",
        "### 學名 : Epipremnum aureum"
      ],
      "metadata": {
        "id": "4dhVAbAN39ZA"
      }
    },
    {
      "cell_type": "code",
      "source": [
        "def get_image(image_urls):\n",
        "    images_raw = []\n",
        "    for im_url in image_urls:\n",
        "        response = requests.get(im_url, stream=True).content\n",
        "        images_raw.append(response)\n",
        "    return images_raw"
      ],
      "metadata": {
        "id": "gjaLleqU31Vs"
      },
      "execution_count": 3,
      "outputs": []
    },
    {
      "cell_type": "code",
      "source": [
        "## 示範:採用多視角圖，辨識同一個植物(提高準確度)\n",
        "image_urls = [\"https://shoplineimg.com/6090f47c3a9bf8003150f14f/61194d921a6eb60020e4cdfe/800x.jpg\",\n",
        "         \"https://foliageandme.com/wp-content/uploads/Pothos-Icon.jpg\",\n",
        "         \"https://pic.baike.soso.com/ugc/baikepic2/1844/cut-20200618191932-474729695_jpg_544_363_39884.jpg/1284\"]\n",
        "\n",
        "images_raw = get_image(image_urls = image_urls)\n",
        "\n",
        "\n",
        "data = {\n",
        "    'organs': ['auto']*len(images_raw) # must contains one of: leaf, flower, fruit, bark, auto.\n",
        "}\n",
        "\n",
        "files = []\n",
        "for idx,raw_data in enumerate(images_raw):\n",
        "    files.append(('images', ('', raw_data)))\n",
        "\n",
        "print(f'Number of images: {len(images_raw)}')"
      ],
      "metadata": {
        "colab": {
          "base_uri": "https://localhost:8080/"
        },
        "id": "n97hVhcx32rs",
        "outputId": "6d23f992-5bc1-401c-bd94-574bf7cd7991"
      },
      "execution_count": 4,
      "outputs": [
        {
          "output_type": "stream",
          "name": "stdout",
          "text": [
            "Number of images: 3\n"
          ]
        }
      ]
    },
    {
      "cell_type": "markdown",
      "source": [
        "### 預覽目標圖片"
      ],
      "metadata": {
        "id": "L06hMDo64Afe"
      }
    },
    {
      "cell_type": "code",
      "source": [
        "def plot_image(image):\n",
        "  size = 128, 128\n",
        "  im = Image.open(image)\n",
        "  im.thumbnail(size, Image.Resampling.LANCZOS)\n",
        "  display(im)"
      ],
      "metadata": {
        "id": "z2NAq2dg4BSo"
      },
      "execution_count": 5,
      "outputs": []
    },
    {
      "cell_type": "code",
      "source": [
        "image = BytesIO(images_raw[0])\n",
        "plot_image(image)"
      ],
      "metadata": {
        "colab": {
          "base_uri": "https://localhost:8080/",
          "height": 145
        },
        "id": "S9Aef1br4DXw",
        "outputId": "0be68b42-8c32-4058-9b0b-6ae75907061f"
      },
      "execution_count": 8,
      "outputs": [
        {
          "output_type": "display_data",
          "data": {
            "text/plain": [
              "<PIL.JpegImagePlugin.JpegImageFile image mode=RGB size=128x128>"
            ],
            "image/png": "[encoded data removed]"
          },
          "metadata": {}
        }
      ]
    },
    {
      "cell_type": "code",
      "source": [
        "image = BytesIO(images_raw[1])\n",
        "plot_image(image)"
      ],
      "metadata": {
        "colab": {
          "base_uri": "https://localhost:8080/",
          "height": 113
        },
        "id": "pFnwbXBd4gyL",
        "outputId": "afc5e51f-6f03-4754-aaf5-7dd77d3d21e8"
      },
      "execution_count": 9,
      "outputs": [
        {
          "output_type": "display_data",
          "data": {
            "text/plain": [
              "<PIL.JpegImagePlugin.JpegImageFile image mode=RGB size=128x96>"
            ],
            "image/png": "[encoded data removed]"
          },
          "metadata": {}
        }
      ]
    },
    {
      "cell_type": "code",
      "source": [
        "image = BytesIO(images_raw[2])\n",
        "plot_image(image)"
      ],
      "metadata": {
        "colab": {
          "base_uri": "https://localhost:8080/",
          "height": 102
        },
        "id": "37IFKtZd4hDa",
        "outputId": "5a511752-c7de-4b95-9336-a5e842b7762e"
      },
      "execution_count": 10,
      "outputs": [
        {
          "output_type": "display_data",
          "data": {
            "text/plain": [
              "<PIL.JpegImagePlugin.JpegImageFile image mode=RGB size=128x85>"
            ],
            "image/png": "[encoded data removed]"
          },
          "metadata": {}
        }
      ]
    },
    {
      "cell_type": "markdown",
      "source": [
        "## 取得辨識結果"
      ],
      "metadata": {
        "id": "mthD5sqA4m7B"
      }
    },
    {
      "cell_type": "code",
      "source": [
        "req = requests.Request('POST', url=api_endpoint, files=files, data=data)\n",
        "prepared = req.prepare()\n",
        "s = requests.Session()\n",
        "response = s.send(prepared)\n",
        "\n",
        "json_result = json.loads(response.text)\n",
        "\n",
        "pprint(response.status_code)"
      ],
      "metadata": {
        "colab": {
          "base_uri": "https://localhost:8080/"
        },
        "id": "jtPzNv8g33vO",
        "outputId": "579f8a02-7524-4ff1-98a1-409b88373505"
      },
      "execution_count": 11,
      "outputs": [
        {
          "output_type": "stream",
          "name": "stdout",
          "text": [
            "200\n"
          ]
        }
      ]
    },
    {
      "cell_type": "code",
      "source": [
        "pprint(json_result)"
      ],
      "metadata": {
        "colab": {
          "base_uri": "https://localhost:8080/"
        },
        "id": "S2UF8MFK34yQ",
        "outputId": "2a4544ef-0990-4a94-d85e-697f1959d76e"
      },
      "execution_count": 12,
      "outputs": [
        {
          "output_type": "stream",
          "name": "stdout",
          "text": [
            "{'bestMatch': 'Epipremnum aureum (Linden & André) G.S.Bunting',\n",
            " 'language': 'en',\n",
            " 'preferedReferential': 'k-world-flora',\n",
            " 'query': {'images': ['ecd33eeadef78ae97a76065dfac96024',\n",
            "                      '4759d6f04985d999c95ae83bbdd9f705',\n",
            "                      'de753e850f9849c90e0951ef7532a4f3'],\n",
            "           'includeRelatedImages': False,\n",
            "           'noReject': False,\n",
            "           'organs': ['auto', 'auto', 'auto'],\n",
            "           'project': 'all'},\n",
            " 'remainingIdentificationRequests': 495,\n",
            " 'results': [{'gbif': {'id': '2868323'},\n",
            "              'powo': {'id': '87014-1'},\n",
            "              'score': 0.73537,\n",
            "              'species': {'commonNames': ['Golden pothos',\n",
            "                                          'Money plant',\n",
            "                                          'پیتوس ابلق'],\n",
            "                          'family': {'scientificName': 'Araceae',\n",
            "                                     'scientificNameAuthorship': '',\n",
            "                                     'scientificNameWithoutAuthor': 'Araceae'},\n",
            "                          'genus': {'scientificName': 'Epipremnum',\n",
            "                                    'scientificNameAuthorship': '',\n",
            "                                    'scientificNameWithoutAuthor': 'Epipremnum'},\n",
            "                          'scientificName': 'Epipremnum aureum (Linden & '\n",
            "                                            'André) G.S.Bunting',\n",
            "                          'scientificNameAuthorship': '(Linden & André) '\n",
            "                                                      'G.S.Bunting',\n",
            "                          'scientificNameWithoutAuthor': 'Epipremnum aureum'}},\n",
            "             {'gbif': {'id': '2868272'},\n",
            "              'powo': {'id': '87046-1'},\n",
            "              'score': 0.5739,\n",
            "              'species': {'commonNames': ['Pothos',\n",
            "                                          \"Devil's-ivy\",\n",
            "                                          'Golden pothos'],\n",
            "                          'family': {'scientificName': 'Araceae',\n",
            "                                     'scientificNameAuthorship': '',\n",
            "                                     'scientificNameWithoutAuthor': 'Araceae'},\n",
            "                          'genus': {'scientificName': 'Epipremnum',\n",
            "                                    'scientificNameAuthorship': '',\n",
            "                                    'scientificNameWithoutAuthor': 'Epipremnum'},\n",
            "                          'scientificName': 'Epipremnum pinnatum (L.) Engl.',\n",
            "                          'scientificNameAuthorship': '(L.) Engl.',\n",
            "                          'scientificNameWithoutAuthor': 'Epipremnum '\n",
            "                                                         'pinnatum'}},\n",
            "             {'gbif': {'id': '2871003'},\n",
            "              'powo': {'id': '87797-1'},\n",
            "              'score': 0.05015,\n",
            "              'species': {'commonNames': ['Heart-leaf philodendron',\n",
            "                                          'How to grow',\n",
            "                                          'Philodendron brazil'],\n",
            "                          'family': {'scientificName': 'Araceae',\n",
            "                                     'scientificNameAuthorship': '',\n",
            "                                     'scientificNameWithoutAuthor': 'Araceae'},\n",
            "                          'genus': {'scientificName': 'Philodendron',\n",
            "                                    'scientificNameAuthorship': '',\n",
            "                                    'scientificNameWithoutAuthor': 'Philodendron'},\n",
            "                          'scientificName': 'Philodendron hederaceum (Jacq.) '\n",
            "                                            'Schott',\n",
            "                          'scientificNameAuthorship': '(Jacq.) Schott',\n",
            "                          'scientificNameWithoutAuthor': 'Philodendron '\n",
            "                                                         'hederaceum'}},\n",
            "             {'gbif': {'id': '2873525'},\n",
            "              'powo': {'id': '85334-1'},\n",
            "              'score': 0.03059,\n",
            "              'species': {'commonNames': ['Anthurium',\n",
            "                                          'Flamingo Lily',\n",
            "                                          'آنتوریوم'],\n",
            "                          'family': {'scientificName': 'Araceae',\n",
            "                                     'scientificNameAuthorship': '',\n",
            "                                     'scientificNameWithoutAuthor': 'Araceae'},\n",
            "                          'genus': {'scientificName': 'Anthurium',\n",
            "                                    'scientificNameAuthorship': '',\n",
            "                                    'scientificNameWithoutAuthor': 'Anthurium'},\n",
            "                          'scientificName': 'Anthurium scherzerianum Schott',\n",
            "                          'scientificNameAuthorship': 'Schott',\n",
            "                          'scientificNameWithoutAuthor': 'Anthurium '\n",
            "                                                         'scherzerianum'}},\n",
            "             {'gbif': {'id': '2868231'},\n",
            "              'powo': {'id': '163961-2'},\n",
            "              'score': 0.01335,\n",
            "              'species': {'commonNames': ['Philodendron Cobra', 'Albo'],\n",
            "                          'family': {'scientificName': 'Araceae',\n",
            "                                     'scientificNameAuthorship': '',\n",
            "                                     'scientificNameWithoutAuthor': 'Araceae'},\n",
            "                          'genus': {'scientificName': 'Monstera',\n",
            "                                    'scientificNameAuthorship': '',\n",
            "                                    'scientificNameWithoutAuthor': 'Monstera'},\n",
            "                          'scientificName': 'Monstera standleyana G.S.Bunting',\n",
            "                          'scientificNameAuthorship': 'G.S.Bunting',\n",
            "                          'scientificNameWithoutAuthor': 'Monstera '\n",
            "                                                         'standleyana'}},\n",
            "             {'gbif': {'id': '2868039'},\n",
            "              'powo': {'id': '77176813-1'},\n",
            "              'score': 0.01193,\n",
            "              'species': {'commonNames': [],\n",
            "                          'family': {'scientificName': 'Araceae',\n",
            "                                     'scientificNameAuthorship': '',\n",
            "                                     'scientificNameWithoutAuthor': 'Araceae'},\n",
            "                          'genus': {'scientificName': 'Schismatoglottis',\n",
            "                                    'scientificNameAuthorship': '',\n",
            "                                    'scientificNameWithoutAuthor': 'Schismatoglottis'},\n",
            "                          'scientificName': 'Schismatoglottis wallichii '\n",
            "                                            'Hook.f.',\n",
            "                          'scientificNameAuthorship': 'Hook.f.',\n",
            "                          'scientificNameWithoutAuthor': 'Schismatoglottis '\n",
            "                                                         'wallichii'}},\n",
            "             {'gbif': {'id': '2871314'},\n",
            "              'powo': {'id': '77073767-1'},\n",
            "              'score': 0.0101,\n",
            "              'species': {'commonNames': ['Heartleaf philodendron',\n",
            "                                          'Philodendron brazil'],\n",
            "                          'family': {'scientificName': 'Araceae',\n",
            "                                     'scientificNameAuthorship': '',\n",
            "                                     'scientificNameWithoutAuthor': 'Araceae'},\n",
            "                          'genus': {'scientificName': 'Philodendron',\n",
            "                                    'scientificNameAuthorship': '',\n",
            "                                    'scientificNameWithoutAuthor': 'Philodendron'},\n",
            "                          'scientificName': 'Philodendron cordatum Kunth ex '\n",
            "                                            'Schott',\n",
            "                          'scientificNameAuthorship': 'Kunth ex Schott',\n",
            "                          'scientificNameWithoutAuthor': 'Philodendron '\n",
            "                                                         'cordatum'}},\n",
            "             {'gbif': {'id': '4028806'},\n",
            "              'powo': {'id': '17411360-1'},\n",
            "              'score': 0.00682,\n",
            "              'species': {'commonNames': [],\n",
            "                          'family': {'scientificName': 'Polypodiaceae',\n",
            "                                     'scientificNameAuthorship': '',\n",
            "                                     'scientificNameWithoutAuthor': 'Polypodiaceae'},\n",
            "                          'genus': {'scientificName': 'Pleopeltis',\n",
            "                                    'scientificNameAuthorship': '',\n",
            "                                    'scientificNameWithoutAuthor': 'Pleopeltis'},\n",
            "                          'scientificName': 'Pleopeltis pleopeltifolia (Raddi) '\n",
            "                                            'Alston',\n",
            "                          'scientificNameAuthorship': '(Raddi) Alston',\n",
            "                          'scientificNameWithoutAuthor': 'Pleopeltis '\n",
            "                                                         'pleopeltifolia'}},\n",
            "             {'gbif': {'id': '2868240'},\n",
            "              'powo': {'id': '163942-2'},\n",
            "              'score': 0.00567,\n",
            "              'species': {'commonNames': ['Mini monstera',\n",
            "                                          'مانسترا',\n",
            "                                          'برگ انجیری'],\n",
            "                          'family': {'scientificName': 'Araceae',\n",
            "                                     'scientificNameAuthorship': '',\n",
            "                                     'scientificNameWithoutAuthor': 'Araceae'},\n",
            "                          'genus': {'scientificName': 'Monstera',\n",
            "                                    'scientificNameAuthorship': '',\n",
            "                                    'scientificNameWithoutAuthor': 'Monstera'},\n",
            "                          'scientificName': 'Monstera minima Madison',\n",
            "                          'scientificNameAuthorship': 'Madison',\n",
            "                          'scientificNameWithoutAuthor': 'Monstera minima'}},\n",
            "             {'gbif': {'id': '5330394'},\n",
            "              'powo': {'id': '88366-1'},\n",
            "              'score': 0.00516,\n",
            "              'species': {'commonNames': [],\n",
            "                          'family': {'scientificName': 'Araceae',\n",
            "                                     'scientificNameAuthorship': '',\n",
            "                                     'scientificNameWithoutAuthor': 'Araceae'},\n",
            "                          'genus': {'scientificName': 'Pothos',\n",
            "                                    'scientificNameAuthorship': '',\n",
            "                                    'scientificNameWithoutAuthor': 'Pothos'},\n",
            "                          'scientificName': 'Pothos scandens L.',\n",
            "                          'scientificNameAuthorship': 'L.',\n",
            "                          'scientificNameWithoutAuthor': 'Pothos scandens'}},\n",
            "             {'gbif': {'id': '2867866'},\n",
            "              'powo': {'id': '89152-1'},\n",
            "              'score': 0.00513,\n",
            "              'species': {'commonNames': ['Arrowhead vine',\n",
            "                                          'Nephthytis',\n",
            "                                          'Goosefoot'],\n",
            "                          'family': {'scientificName': 'Araceae',\n",
            "                                     'scientificNameAuthorship': '',\n",
            "                                     'scientificNameWithoutAuthor': 'Araceae'},\n",
            "                          'genus': {'scientificName': 'Syngonium',\n",
            "                                    'scientificNameAuthorship': '',\n",
            "                                    'scientificNameWithoutAuthor': 'Syngonium'},\n",
            "                          'scientificName': 'Syngonium podophyllum Schott',\n",
            "                          'scientificNameAuthorship': 'Schott',\n",
            "                          'scientificNameWithoutAuthor': 'Syngonium '\n",
            "                                                         'podophyllum'}},\n",
            "             {'gbif': {'id': '2872898'},\n",
            "              'powo': {'id': '15798-2'},\n",
            "              'score': 0.00496,\n",
            "              'species': {'commonNames': [],\n",
            "                          'family': {'scientificName': 'Araceae',\n",
            "                                     'scientificNameAuthorship': '',\n",
            "                                     'scientificNameWithoutAuthor': 'Araceae'},\n",
            "                          'genus': {'scientificName': 'Anthurium',\n",
            "                                    'scientificNameAuthorship': '',\n",
            "                                    'scientificNameWithoutAuthor': 'Anthurium'},\n",
            "                          'scientificName': 'Anthurium upalaense Croat & '\n",
            "                                            'R.A.Baker',\n",
            "                          'scientificNameAuthorship': 'Croat & R.A.Baker',\n",
            "                          'scientificNameWithoutAuthor': 'Anthurium '\n",
            "                                                         'upalaense'}},\n",
            "             {'gbif': {'id': '2869429'},\n",
            "              'powo': {'id': '86896-1'},\n",
            "              'score': 0.00487,\n",
            "              'species': {'commonNames': ['Dieffenbachia Green Magic',\n",
            "                                          'دیفن باخیا',\n",
            "                                          'Arrow crane'],\n",
            "                          'family': {'scientificName': 'Araceae',\n",
            "                                     'scientificNameAuthorship': '',\n",
            "                                     'scientificNameWithoutAuthor': 'Araceae'},\n",
            "                          'genus': {'scientificName': 'Dieffenbachia',\n",
            "                                    'scientificNameAuthorship': '',\n",
            "                                    'scientificNameWithoutAuthor': 'Dieffenbachia'},\n",
            "                          'scientificName': 'Dieffenbachia oerstedii Schott',\n",
            "                          'scientificNameAuthorship': 'Schott',\n",
            "                          'scientificNameWithoutAuthor': 'Dieffenbachia '\n",
            "                                                         'oerstedii'}},\n",
            "             {'gbif': {'id': '2872699'},\n",
            "              'powo': {'id': '15369-2'},\n",
            "              'score': 0.00487,\n",
            "              'species': {'commonNames': ['Atta mokka'],\n",
            "                          'family': {'scientificName': 'Araceae',\n",
            "                                     'scientificNameAuthorship': '',\n",
            "                                     'scientificNameWithoutAuthor': 'Araceae'},\n",
            "                          'genus': {'scientificName': 'Anthurium',\n",
            "                                    'scientificNameAuthorship': '',\n",
            "                                    'scientificNameWithoutAuthor': 'Anthurium'},\n",
            "                          'scientificName': 'Anthurium jenmanii Engl.',\n",
            "                          'scientificNameAuthorship': 'Engl.',\n",
            "                          'scientificNameWithoutAuthor': 'Anthurium jenmanii'}},\n",
            "             {'gbif': {'id': '3573874'},\n",
            "              'powo': {'id': '98519-1'},\n",
            "              'score': 0.00385,\n",
            "              'species': {'commonNames': ['Hoya Lacunosa'],\n",
            "                          'family': {'scientificName': 'Apocynaceae',\n",
            "                                     'scientificNameAuthorship': '',\n",
            "                                     'scientificNameWithoutAuthor': 'Apocynaceae'},\n",
            "                          'genus': {'scientificName': 'Hoya',\n",
            "                                    'scientificNameAuthorship': '',\n",
            "                                    'scientificNameWithoutAuthor': 'Hoya'},\n",
            "                          'scientificName': 'Hoya lacunosa Blume',\n",
            "                          'scientificNameAuthorship': 'Blume',\n",
            "                          'scientificNameWithoutAuthor': 'Hoya lacunosa'}},\n",
            "             {'gbif': {'id': '3083508'},\n",
            "              'powo': {'id': '14549-2'},\n",
            "              'score': 0.00379,\n",
            "              'species': {'commonNames': ['Maderia-Vine',\n",
            "                                          'Basell-potatoes',\n",
            "                                          'Mignonette-vine'],\n",
            "                          'family': {'scientificName': 'Basellaceae',\n",
            "                                     'scientificNameAuthorship': '',\n",
            "                                     'scientificNameWithoutAuthor': 'Basellaceae'},\n",
            "                          'genus': {'scientificName': 'Anredera',\n",
            "                                    'scientificNameAuthorship': '',\n",
            "                                    'scientificNameWithoutAuthor': 'Anredera'},\n",
            "                          'scientificName': 'Anredera cordifolia (Ten.) '\n",
            "                                            'Steenis',\n",
            "                          'scientificNameAuthorship': '(Ten.) Steenis',\n",
            "                          'scientificNameWithoutAuthor': 'Anredera '\n",
            "                                                         'cordifolia'}},\n",
            "             {'gbif': {'id': '9731469'},\n",
            "              'powo': {'id': '77178484-1'},\n",
            "              'score': 0.00358,\n",
            "              'species': {'commonNames': ['Brazilian Heartleaf Philodendrin'],\n",
            "                          'family': {'scientificName': 'Araceae',\n",
            "                                     'scientificNameAuthorship': '',\n",
            "                                     'scientificNameWithoutAuthor': 'Araceae'},\n",
            "                          'genus': {'scientificName': 'Thaumatophyllum',\n",
            "                                    'scientificNameAuthorship': '',\n",
            "                                    'scientificNameWithoutAuthor': 'Thaumatophyllum'},\n",
            "                          'scientificName': 'Thaumatophyllum brasiliense '\n",
            "                                            '(Engl.) Sakur., Calazans & Mayo',\n",
            "                          'scientificNameAuthorship': '(Engl.) Sakur., '\n",
            "                                                      'Calazans & Mayo',\n",
            "                          'scientificNameWithoutAuthor': 'Thaumatophyllum '\n",
            "                                                         'brasiliense'}},\n",
            "             {'gbif': {'id': '3616287'},\n",
            "              'powo': {'id': '152049-2'},\n",
            "              'score': 0.00338,\n",
            "              'species': {'commonNames': ['Brazilian-jasmine',\n",
            "                                          'Red robin',\n",
            "                                          'Chilean -jasmine'],\n",
            "                          'family': {'scientificName': 'Apocynaceae',\n",
            "                                     'scientificNameAuthorship': '',\n",
            "                                     'scientificNameWithoutAuthor': 'Apocynaceae'},\n",
            "                          'genus': {'scientificName': 'Mandevilla',\n",
            "                                    'scientificNameAuthorship': '',\n",
            "                                    'scientificNameWithoutAuthor': 'Mandevilla'},\n",
            "                          'scientificName': 'Mandevilla sanderi (Hemsl.) '\n",
            "                                            'Woodson',\n",
            "                          'scientificNameAuthorship': '(Hemsl.) Woodson',\n",
            "                          'scientificNameWithoutAuthor': 'Mandevilla sanderi'}},\n",
            "             {'gbif': {'id': '7727798'},\n",
            "              'powo': {'id': '679841-1'},\n",
            "              'score': 0.00321,\n",
            "              'species': {'commonNames': ['Cupid peperomia',\n",
            "                                          'DeeDee’s Serpens(my grandmothers '\n",
            "                                          'plant I inherited)'],\n",
            "                          'family': {'scientificName': 'Piperaceae',\n",
            "                                     'scientificNameAuthorship': '',\n",
            "                                     'scientificNameWithoutAuthor': 'Piperaceae'},\n",
            "                          'genus': {'scientificName': 'Peperomia',\n",
            "                                    'scientificNameAuthorship': '',\n",
            "                                    'scientificNameWithoutAuthor': 'Peperomia'},\n",
            "                          'scientificName': 'Peperomia serpens (Sw.) G.Don',\n",
            "                          'scientificNameAuthorship': '(Sw.) G.Don',\n",
            "                          'scientificNameWithoutAuthor': 'Peperomia serpens'}},\n",
            "             {'gbif': {'id': '4190808'},\n",
            "              'powo': {'id': '189863-2'},\n",
            "              'score': 0.00307,\n",
            "              'species': {'commonNames': ['Peperomia Ginny'],\n",
            "                          'family': {'scientificName': 'Piperaceae',\n",
            "                                     'scientificNameAuthorship': '',\n",
            "                                     'scientificNameWithoutAuthor': 'Piperaceae'},\n",
            "                          'genus': {'scientificName': 'Peperomia',\n",
            "                                    'scientificNameAuthorship': '',\n",
            "                                    'scientificNameWithoutAuthor': 'Peperomia'},\n",
            "                          'scientificName': 'Peperomia tricolor Trel.',\n",
            "                          'scientificNameAuthorship': 'Trel.',\n",
            "                          'scientificNameWithoutAuthor': 'Peperomia tricolor'}},\n",
            "             {'gbif': {'id': '2728632'},\n",
            "              'powo': {'id': '927466-1'},\n",
            "              'score': 0.00304,\n",
            "              'species': {'commonNames': ['Greater brown sedge'],\n",
            "                          'family': {'scientificName': 'Cyperaceae',\n",
            "                                     'scientificNameAuthorship': '',\n",
            "                                     'scientificNameWithoutAuthor': 'Cyperaceae'},\n",
            "                          'genus': {'scientificName': 'Carex',\n",
            "                                    'scientificNameAuthorship': '',\n",
            "                                    'scientificNameWithoutAuthor': 'Carex'},\n",
            "                          'scientificName': 'Carex brunnea Thunb.',\n",
            "                          'scientificNameAuthorship': 'Thunb.',\n",
            "                          'scientificNameWithoutAuthor': 'Carex brunnea'}},\n",
            "             {'gbif': {'id': '2871359'},\n",
            "              'powo': {'id': '193102-2'},\n",
            "              'score': 0.0026,\n",
            "              'species': {'commonNames': ['Philodendron Green Congo', 'Pacová'],\n",
            "                          'family': {'scientificName': 'Araceae',\n",
            "                                     'scientificNameAuthorship': '',\n",
            "                                     'scientificNameWithoutAuthor': 'Araceae'},\n",
            "                          'genus': {'scientificName': 'Philodendron',\n",
            "                                    'scientificNameAuthorship': '',\n",
            "                                    'scientificNameWithoutAuthor': 'Philodendron'},\n",
            "                          'scientificName': 'Philodendron martianum Engl.',\n",
            "                          'scientificNameAuthorship': 'Engl.',\n",
            "                          'scientificNameWithoutAuthor': 'Philodendron '\n",
            "                                                         'martianum'}},\n",
            "             {'gbif': {'id': '3765871'},\n",
            "              'iucn': {'category': 'LC', 'id': '72278682'},\n",
            "              'powo': {'id': '853577-1'},\n",
            "              'score': 0.00257,\n",
            "              'species': {'commonNames': ['Indian laurel',\n",
            "                                          'Indian Laurel Fig',\n",
            "                                          'Ficus nitida'],\n",
            "                          'family': {'scientificName': 'Moraceae',\n",
            "                                     'scientificNameAuthorship': '',\n",
            "                                     'scientificNameWithoutAuthor': 'Moraceae'},\n",
            "                          'genus': {'scientificName': 'Ficus',\n",
            "                                    'scientificNameAuthorship': '',\n",
            "                                    'scientificNameWithoutAuthor': 'Ficus'},\n",
            "                          'scientificName': 'Ficus retusa L.',\n",
            "                          'scientificNameAuthorship': 'L.',\n",
            "                          'scientificNameWithoutAuthor': 'Ficus retusa'}},\n",
            "             {'gbif': {'id': '2866415'},\n",
            "              'powo': {'id': '84078-1'},\n",
            "              'score': 0.00229,\n",
            "              'species': {'commonNames': [],\n",
            "                          'family': {'scientificName': 'Araceae',\n",
            "                                     'scientificNameAuthorship': '',\n",
            "                                     'scientificNameWithoutAuthor': 'Araceae'},\n",
            "                          'genus': {'scientificName': 'Aglaonema',\n",
            "                                    'scientificNameAuthorship': '',\n",
            "                                    'scientificNameWithoutAuthor': 'Aglaonema'},\n",
            "                          'scientificName': 'Aglaonema marantifolium Blume',\n",
            "                          'scientificNameAuthorship': 'Blume',\n",
            "                          'scientificNameWithoutAuthor': 'Aglaonema '\n",
            "                                                         'marantifolium'}},\n",
            "             {'gbif': {'id': '2868201'},\n",
            "              'powo': {'id': '87509-1'},\n",
            "              'score': 0.00224,\n",
            "              'species': {'commonNames': ['Split leaf'],\n",
            "                          'family': {'scientificName': 'Araceae',\n",
            "                                     'scientificNameAuthorship': '',\n",
            "                                     'scientificNameWithoutAuthor': 'Araceae'},\n",
            "                          'genus': {'scientificName': 'Monstera',\n",
            "                                    'scientificNameAuthorship': '',\n",
            "                                    'scientificNameWithoutAuthor': 'Monstera'},\n",
            "                          'scientificName': 'Monstera lechleriana Schott',\n",
            "                          'scientificNameAuthorship': 'Schott',\n",
            "                          'scientificNameWithoutAuthor': 'Monstera '\n",
            "                                                         'lechleriana'}},\n",
            "             {'gbif': {'id': '5329745'},\n",
            "              'powo': {'id': '88594-1'},\n",
            "              'score': 0.00219,\n",
            "              'species': {'commonNames': ['Mini Monstera',\n",
            "                                          'Swiss Cheese plant',\n",
            "                                          'Monstera deliciosa'],\n",
            "                          'family': {'scientificName': 'Araceae',\n",
            "                                     'scientificNameAuthorship': '',\n",
            "                                     'scientificNameWithoutAuthor': 'Araceae'},\n",
            "                          'genus': {'scientificName': 'Rhaphidophora',\n",
            "                                    'scientificNameAuthorship': '',\n",
            "                                    'scientificNameWithoutAuthor': 'Rhaphidophora'},\n",
            "                          'scientificName': 'Rhaphidophora tetrasperma Hook.f.',\n",
            "                          'scientificNameAuthorship': 'Hook.f.',\n",
            "                          'scientificNameWithoutAuthor': 'Rhaphidophora '\n",
            "                                                         'tetrasperma'}},\n",
            "             {'gbif': {'id': '3086385'},\n",
            "              'powo': {'id': '30001267-2'},\n",
            "              'score': 0.00216,\n",
            "              'species': {'commonNames': ['Cypress peperomia',\n",
            "                                          'Wax-privet',\n",
            "                                          'Orchid’s Purslane'],\n",
            "                          'family': {'scientificName': 'Piperaceae',\n",
            "                                     'scientificNameAuthorship': '',\n",
            "                                     'scientificNameWithoutAuthor': 'Piperaceae'},\n",
            "                          'genus': {'scientificName': 'Peperomia',\n",
            "                                    'scientificNameAuthorship': '',\n",
            "                                    'scientificNameWithoutAuthor': 'Peperomia'},\n",
            "                          'scientificName': 'Peperomia glabella (Sw.) A.Dietr.',\n",
            "                          'scientificNameAuthorship': '(Sw.) A.Dietr.',\n",
            "                          'scientificNameWithoutAuthor': 'Peperomia glabella'}},\n",
            "             {'gbif': {'id': '3981546'},\n",
            "              'iucn': {'category': 'LC', 'id': '150104333'},\n",
            "              'powo': {'id': '107193-1'},\n",
            "              'score': 0.00213,\n",
            "              'species': {'commonNames': [],\n",
            "                          'family': {'scientificName': 'Berberidaceae',\n",
            "                                     'scientificNameAuthorship': '',\n",
            "                                     'scientificNameWithoutAuthor': 'Berberidaceae'},\n",
            "                          'genus': {'scientificName': 'Berberis',\n",
            "                                    'scientificNameAuthorship': '',\n",
            "                                    'scientificNameWithoutAuthor': 'Berberis'},\n",
            "                          'scientificName': 'Berberis wallichiana DC.',\n",
            "                          'scientificNameAuthorship': 'DC.',\n",
            "                          'scientificNameWithoutAuthor': 'Berberis '\n",
            "                                                         'wallichiana'}},\n",
            "             {'gbif': {'id': '2869701'},\n",
            "              'powo': {'id': '88955-1'},\n",
            "              'score': 0.00197,\n",
            "              'species': {'commonNames': ['Spatheflower', 'Peace Lily'],\n",
            "                          'family': {'scientificName': 'Araceae',\n",
            "                                     'scientificNameAuthorship': '',\n",
            "                                     'scientificNameWithoutAuthor': 'Araceae'},\n",
            "                          'genus': {'scientificName': 'Spathiphyllum',\n",
            "                                    'scientificNameAuthorship': '',\n",
            "                                    'scientificNameWithoutAuthor': 'Spathiphyllum'},\n",
            "                          'scientificName': 'Spathiphyllum cannifolium '\n",
            "                                            '(Dryand. ex Sims) Schott',\n",
            "                          'scientificNameAuthorship': '(Dryand. ex Sims) '\n",
            "                                                      'Schott',\n",
            "                          'scientificNameWithoutAuthor': 'Spathiphyllum '\n",
            "                                                         'cannifolium'}},\n",
            "             {'gbif': {'id': '2869101'},\n",
            "              'iucn': {'category': 'LC', 'id': '167822'},\n",
            "              'powo': {'id': '86508-1'},\n",
            "              'score': 0.00187,\n",
            "              'species': {'commonNames': ['Peace lilly',\n",
            "                                          'Wild calla',\n",
            "                                          'Wild calla-lily'],\n",
            "                          'family': {'scientificName': 'Araceae',\n",
            "                                     'scientificNameAuthorship': '',\n",
            "                                     'scientificNameWithoutAuthor': 'Araceae'},\n",
            "                          'genus': {'scientificName': 'Calla',\n",
            "                                    'scientificNameAuthorship': '',\n",
            "                                    'scientificNameWithoutAuthor': 'Calla'},\n",
            "                          'scientificName': 'Calla palustris L.',\n",
            "                          'scientificNameAuthorship': 'L.',\n",
            "                          'scientificNameWithoutAuthor': 'Calla palustris'}},\n",
            "             {'gbif': {'id': '5384215'},\n",
            "              'iucn': {'category': 'LC', 'id': '46508'},\n",
            "              'powo': {'id': '137452-1'},\n",
            "              'score': 0.00187,\n",
            "              'species': {'commonNames': ['Ora-pro-nobis',\n",
            "                                          'Leaf cactus',\n",
            "                                          'Leafy cactus'],\n",
            "                          'family': {'scientificName': 'Cactaceae',\n",
            "                                     'scientificNameAuthorship': '',\n",
            "                                     'scientificNameWithoutAuthor': 'Cactaceae'},\n",
            "                          'genus': {'scientificName': 'Pereskia',\n",
            "                                    'scientificNameAuthorship': '',\n",
            "                                    'scientificNameWithoutAuthor': 'Pereskia'},\n",
            "                          'scientificName': 'Pereskia aculeata Mill.',\n",
            "                          'scientificNameAuthorship': 'Mill.',\n",
            "                          'scientificNameWithoutAuthor': 'Pereskia aculeata'}},\n",
            "             {'gbif': {'id': '2866488'},\n",
            "              'powo': {'id': '84081-1'},\n",
            "              'score': 0.0018,\n",
            "              'species': {'commonNames': ['Chinese evergreen', 'Japanese-leaf'],\n",
            "                          'family': {'scientificName': 'Araceae',\n",
            "                                     'scientificNameAuthorship': '',\n",
            "                                     'scientificNameWithoutAuthor': 'Araceae'},\n",
            "                          'genus': {'scientificName': 'Aglaonema',\n",
            "                                    'scientificNameAuthorship': '',\n",
            "                                    'scientificNameWithoutAuthor': 'Aglaonema'},\n",
            "                          'scientificName': 'Aglaonema modestum Schott ex '\n",
            "                                            'Engl.',\n",
            "                          'scientificNameAuthorship': 'Schott ex Engl.',\n",
            "                          'scientificNameWithoutAuthor': 'Aglaonema modestum'}},\n",
            "             {'gbif': {'id': '2869731'},\n",
            "              'powo': {'id': '88959-1'},\n",
            "              'score': 0.0015,\n",
            "              'species': {'commonNames': ['Bischerad'],\n",
            "                          'family': {'scientificName': 'Araceae',\n",
            "                                     'scientificNameAuthorship': '',\n",
            "                                     'scientificNameWithoutAuthor': 'Araceae'},\n",
            "                          'genus': {'scientificName': 'Spathiphyllum',\n",
            "                                    'scientificNameAuthorship': '',\n",
            "                                    'scientificNameWithoutAuthor': 'Spathiphyllum'},\n",
            "                          'scientificName': 'Spathiphyllum commutatum Schott',\n",
            "                          'scientificNameAuthorship': 'Schott',\n",
            "                          'scientificNameWithoutAuthor': 'Spathiphyllum '\n",
            "                                                         'commutatum'}},\n",
            "             {'gbif': {'id': '4933146'},\n",
            "              'powo': {'id': '84582-1'},\n",
            "              'score': 0.00141,\n",
            "              'species': {'commonNames': [],\n",
            "                          'family': {'scientificName': 'Araceae',\n",
            "                                     'scientificNameAuthorship': '',\n",
            "                                     'scientificNameWithoutAuthor': 'Araceae'},\n",
            "                          'genus': {'scientificName': 'Anthurium',\n",
            "                                    'scientificNameAuthorship': '',\n",
            "                                    'scientificNameWithoutAuthor': 'Anthurium'},\n",
            "                          'scientificName': 'Anthurium bakeri Hook.f.',\n",
            "                          'scientificNameAuthorship': 'Hook.f.',\n",
            "                          'scientificNameWithoutAuthor': 'Anthurium bakeri'}},\n",
            "             {'gbif': {'id': '8157211'},\n",
            "              'iucn': {'category': 'LC', 'id': '151363444'},\n",
            "              'powo': {'id': '77102478-1'},\n",
            "              'score': 0.00134,\n",
            "              'species': {'commonNames': [],\n",
            "                          'family': {'scientificName': 'Urticaceae',\n",
            "                                     'scientificNameAuthorship': '',\n",
            "                                     'scientificNameWithoutAuthor': 'Urticaceae'},\n",
            "                          'genus': {'scientificName': 'Urera',\n",
            "                                    'scientificNameAuthorship': '',\n",
            "                                    'scientificNameWithoutAuthor': 'Urera'},\n",
            "                          'scientificName': 'Urera fenestrata A.K.Monro & '\n",
            "                                            'Al.Rodr.',\n",
            "                          'scientificNameAuthorship': 'A.K.Monro & Al.Rodr.',\n",
            "                          'scientificNameWithoutAuthor': 'Urera fenestrata'}},\n",
            "             {'gbif': {'id': '2869650'},\n",
            "              'powo': {'id': '88963-1'},\n",
            "              'score': 0.00134,\n",
            "              'species': {'commonNames': ['Peace-lily',\n",
            "                                          'Snowflower',\n",
            "                                          'اسپاتی فیلیوم'],\n",
            "                          'family': {'scientificName': 'Araceae',\n",
            "                                     'scientificNameAuthorship': '',\n",
            "                                     'scientificNameWithoutAuthor': 'Araceae'},\n",
            "                          'genus': {'scientificName': 'Spathiphyllum',\n",
            "                                    'scientificNameAuthorship': '',\n",
            "                                    'scientificNameWithoutAuthor': 'Spathiphyllum'},\n",
            "                          'scientificName': 'Spathiphyllum floribundum (Linden '\n",
            "                                            '& André) N.E.Br.',\n",
            "                          'scientificNameAuthorship': '(Linden & André) '\n",
            "                                                      'N.E.Br.',\n",
            "                          'scientificNameWithoutAuthor': 'Spathiphyllum '\n",
            "                                                         'floribundum'}},\n",
            "             {'gbif': {'id': '3617571'},\n",
            "              'powo': {'id': '151995-2'},\n",
            "              'score': 0.00124,\n",
            "              'species': {'commonNames': ['Chilean-jasmine',\n",
            "                                          'Sun Parasol',\n",
            "                                          'گل ماندویلا'],\n",
            "                          'family': {'scientificName': 'Apocynaceae',\n",
            "                                     'scientificNameAuthorship': '',\n",
            "                                     'scientificNameWithoutAuthor': 'Apocynaceae'},\n",
            "                          'genus': {'scientificName': 'Mandevilla',\n",
            "                                    'scientificNameAuthorship': '',\n",
            "                                    'scientificNameWithoutAuthor': 'Mandevilla'},\n",
            "                          'scientificName': 'Mandevilla laxa (Ruiz & Pav.) '\n",
            "                                            'Woodson',\n",
            "                          'scientificNameAuthorship': '(Ruiz & Pav.) Woodson',\n",
            "                          'scientificNameWithoutAuthor': 'Mandevilla laxa'}},\n",
            "             {'gbif': {'id': '2911624'},\n",
            "              'powo': {'id': '757486-1'},\n",
            "              'score': 0.00123,\n",
            "              'species': {'commonNames': ['English babytears',\n",
            "                                          'Beadplant',\n",
            "                                          'Coral beadplant'],\n",
            "                          'family': {'scientificName': 'Rubiaceae',\n",
            "                                     'scientificNameAuthorship': '',\n",
            "                                     'scientificNameWithoutAuthor': 'Rubiaceae'},\n",
            "                          'genus': {'scientificName': 'Nertera',\n",
            "                                    'scientificNameAuthorship': '',\n",
            "                                    'scientificNameWithoutAuthor': 'Nertera'},\n",
            "                          'scientificName': 'Nertera granadensis (Mutis ex '\n",
            "                                            'L.f.) Druce',\n",
            "                          'scientificNameAuthorship': '(Mutis ex L.f.) Druce',\n",
            "                          'scientificNameWithoutAuthor': 'Nertera '\n",
            "                                                         'granadensis'}},\n",
            "             {'gbif': {'id': '2768367'},\n",
            "              'powo': {'id': '531013-1'},\n",
            "              'score': 0.00121,\n",
            "              'species': {'commonNames': ['Bridal-creeper',\n",
            "                                          'Bridal-veil-creeper',\n",
            "                                          'Gnarboola'],\n",
            "                          'family': {'scientificName': 'Asparagaceae',\n",
            "                                     'scientificNameAuthorship': '',\n",
            "                                     'scientificNameWithoutAuthor': 'Asparagaceae'},\n",
            "                          'genus': {'scientificName': 'Asparagus',\n",
            "                                    'scientificNameAuthorship': '',\n",
            "                                    'scientificNameWithoutAuthor': 'Asparagus'},\n",
            "                          'scientificName': 'Asparagus asparagoides (L.) Druce',\n",
            "                          'scientificNameAuthorship': '(L.) Druce',\n",
            "                          'scientificNameWithoutAuthor': 'Asparagus '\n",
            "                                                         'asparagoides'}},\n",
            "             {'gbif': {'id': '2867864'},\n",
            "              'powo': {'id': '248438-2'},\n",
            "              'score': 0.00117,\n",
            "              'species': {'commonNames': ['Red Arrow'],\n",
            "                          'family': {'scientificName': 'Araceae',\n",
            "                                     'scientificNameAuthorship': '',\n",
            "                                     'scientificNameWithoutAuthor': 'Araceae'},\n",
            "                          'genus': {'scientificName': 'Syngonium',\n",
            "                                    'scientificNameAuthorship': '',\n",
            "                                    'scientificNameWithoutAuthor': 'Syngonium'},\n",
            "                          'scientificName': 'Syngonium erythrophyllum Birdsey '\n",
            "                                            'ex G.S.Bunting',\n",
            "                          'scientificNameAuthorship': 'Birdsey ex G.S.Bunting',\n",
            "                          'scientificNameWithoutAuthor': 'Syngonium '\n",
            "                                                         'erythrophyllum'}},\n",
            "             {'gbif': {'id': '2774395'},\n",
            "              'powo': {'id': '532931-1'},\n",
            "              'score': 0.0011,\n",
            "              'species': {'commonNames': ['Spider Plant'],\n",
            "                          'family': {'scientificName': 'Asparagaceae',\n",
            "                                     'scientificNameAuthorship': '',\n",
            "                                     'scientificNameWithoutAuthor': 'Asparagaceae'},\n",
            "                          'genus': {'scientificName': 'Chlorophytum',\n",
            "                                    'scientificNameAuthorship': '',\n",
            "                                    'scientificNameWithoutAuthor': 'Chlorophytum'},\n",
            "                          'scientificName': 'Chlorophytum laxum R.Br.',\n",
            "                          'scientificNameAuthorship': 'R.Br.',\n",
            "                          'scientificNameWithoutAuthor': 'Chlorophytum laxum'}},\n",
            "             {'gbif': {'id': '5614033'},\n",
            "              'iucn': {'category': 'LC', 'id': '78680592'},\n",
            "              'powo': {'id': '17212110-1'},\n",
            "              'score': 0.00104,\n",
            "              'species': {'commonNames': ['Toothed Brake'],\n",
            "                          'family': {'scientificName': 'Pteridaceae',\n",
            "                                     'scientificNameAuthorship': '',\n",
            "                                     'scientificNameWithoutAuthor': 'Pteridaceae'},\n",
            "                          'genus': {'scientificName': 'Pteris',\n",
            "                                    'scientificNameAuthorship': '',\n",
            "                                    'scientificNameWithoutAuthor': 'Pteris'},\n",
            "                          'scientificName': 'Pteris dentata Forssk.',\n",
            "                          'scientificNameAuthorship': 'Forssk.',\n",
            "                          'scientificNameWithoutAuthor': 'Pteris dentata'}},\n",
            "             {'gbif': {'id': '4186205'},\n",
            "              'powo': {'id': '679474-1'},\n",
            "              'score': 0.00103,\n",
            "              'species': {'commonNames': ['Raindrop peperomia', 'Money plant'],\n",
            "                          'family': {'scientificName': 'Piperaceae',\n",
            "                                     'scientificNameAuthorship': '',\n",
            "                                     'scientificNameWithoutAuthor': 'Piperaceae'},\n",
            "                          'genus': {'scientificName': 'Peperomia',\n",
            "                                    'scientificNameAuthorship': '',\n",
            "                                    'scientificNameWithoutAuthor': 'Peperomia'},\n",
            "                          'scientificName': 'Peperomia polybotrya Kunth',\n",
            "                          'scientificNameAuthorship': 'Kunth',\n",
            "                          'scientificNameWithoutAuthor': 'Peperomia '\n",
            "                                                         'polybotrya'}},\n",
            "             {'gbif': {'id': '2874715'},\n",
            "              'powo': {'id': '315561-2'},\n",
            "              'score': 0.00102,\n",
            "              'species': {'commonNames': ['Angel-wing begonia',\n",
            "                                          'Scarlet begonia'],\n",
            "                          'family': {'scientificName': 'Begoniaceae',\n",
            "                                     'scientificNameAuthorship': '',\n",
            "                                     'scientificNameWithoutAuthor': 'Begoniaceae'},\n",
            "                          'genus': {'scientificName': 'Begonia',\n",
            "                                    'scientificNameAuthorship': '',\n",
            "                                    'scientificNameWithoutAuthor': 'Begonia'},\n",
            "                          'scientificName': 'Begonia coccinea Hook.',\n",
            "                          'scientificNameAuthorship': 'Hook.',\n",
            "                          'scientificNameWithoutAuthor': 'Begonia coccinea'}}],\n",
            " 'version': '2024-02-22 (7.1)'}\n"
          ]
        }
      ]
    },
    {
      "cell_type": "markdown",
      "source": [
        "## 結果"
      ],
      "metadata": {
        "id": "p2RGP7g653Cr"
      }
    },
    {
      "cell_type": "code",
      "source": [
        "print(json_result['bestMatch'])\n",
        "print(json_result['results'][0]['score'])"
      ],
      "metadata": {
        "colab": {
          "base_uri": "https://localhost:8080/"
        },
        "id": "nH7cY1KN356F",
        "outputId": "d8c24227-17a2-4c7f-f7ee-2634d69d189c"
      },
      "execution_count": 13,
      "outputs": [
        {
          "output_type": "stream",
          "name": "stdout",
          "text": [
            "Epipremnum aureum (Linden & André) G.S.Bunting\n",
            "0.73537\n"
          ]
        }
      ]
    },
    {
      "cell_type": "markdown",
      "source": [
        "## 圖源:虎尾蘭\n",
        "### 學名 : Dracaena trifasciata"
      ],
      "metadata": {
        "id": "-foy2Qta5KDh"
      }
    },
    {
      "cell_type": "code",
      "source": [
        "## 示範:採用多視角圖，辨識同一個植物(提高準確度)\n",
        "image_urls = ['https://www.picturethisai.com/wiki-image/1080/153936867790684172.jpeg']\n",
        "\n",
        "images_raw = get_image(image_urls = image_urls)\n",
        "\n",
        "\n",
        "data = {\n",
        "    'organs': ['auto']*len(images_raw) # must contains one of: leaf, flower, fruit, bark, auto.\n",
        "}\n",
        "\n",
        "files = []\n",
        "for idx,raw_data in enumerate(images_raw):\n",
        "    files.append(('images', ('', raw_data)))\n",
        "\n",
        "print(f'Number of images: {len(images_raw)}')"
      ],
      "metadata": {
        "colab": {
          "base_uri": "https://localhost:8080/"
        },
        "id": "bOYcLfGf5OAB",
        "outputId": "45049783-0269-49b0-b275-2b67cefc6b9f"
      },
      "execution_count": 14,
      "outputs": [
        {
          "output_type": "stream",
          "name": "stdout",
          "text": [
            "Number of images: 1\n"
          ]
        }
      ]
    },
    {
      "cell_type": "markdown",
      "source": [
        "### 預覽目標圖片"
      ],
      "metadata": {
        "id": "Ov7Gw8_35Z-u"
      }
    },
    {
      "cell_type": "code",
      "source": [
        "image = BytesIO(images_raw[0])\n",
        "plot_image(image)"
      ],
      "metadata": {
        "colab": {
          "base_uri": "https://localhost:8080/",
          "height": 145
        },
        "id": "98Tf9WHo5ZDC",
        "outputId": "eae451f4-e677-4a56-8cea-18b7a73d7e93"
      },
      "execution_count": 15,
      "outputs": [
        {
          "output_type": "display_data",
          "data": {
            "text/plain": [
              "<PIL.JpegImagePlugin.JpegImageFile image mode=RGB size=128x128>"
            ],
            "image/png": "[encoded data removed]"
          },
          "metadata": {}
        }
      ]
    },
    {
      "cell_type": "markdown",
      "source": [
        "## 取得識別結果"
      ],
      "metadata": {
        "id": "lE3fza_Q5fHj"
      }
    },
    {
      "cell_type": "code",
      "source": [
        "req = requests.Request('POST', url=api_endpoint, files=files, data=data)\n",
        "prepared = req.prepare()\n",
        "s = requests.Session()\n",
        "response = s.send(prepared)\n",
        "\n",
        "json_result = json.loads(response.text)\n",
        "\n",
        "pprint(response.status_code)"
      ],
      "metadata": {
        "colab": {
          "base_uri": "https://localhost:8080/"
        },
        "id": "PKiYmNMk5hZM",
        "outputId": "7899af04-7adf-4079-ef38-a0eb4ece4887"
      },
      "execution_count": 16,
      "outputs": [
        {
          "output_type": "stream",
          "name": "stdout",
          "text": [
            "200\n"
          ]
        }
      ]
    },
    {
      "cell_type": "code",
      "source": [
        "pprint(json_result)"
      ],
      "metadata": {
        "colab": {
          "base_uri": "https://localhost:8080/"
        },
        "id": "lB8CdINK5j4Q",
        "outputId": "a79a9093-ddd7-4d34-f6f1-29dac6c3eca6"
      },
      "execution_count": 17,
      "outputs": [
        {
          "output_type": "stream",
          "name": "stdout",
          "text": [
            "{'bestMatch': 'Dracaena stuckyi (God.-Leb.) Byng & Christenh.',\n",
            " 'language': 'en',\n",
            " 'preferedReferential': 'k-world-flora',\n",
            " 'query': {'images': ['735907c56aab727e3d4ec07c3708607f'],\n",
            "           'includeRelatedImages': False,\n",
            "           'noReject': False,\n",
            "           'organs': ['auto'],\n",
            "           'project': 'all'},\n",
            " 'remainingIdentificationRequests': 494,\n",
            " 'results': [{'gbif': {'id': '11064950'},\n",
            "              'powo': {'id': '77183329-1'},\n",
            "              'score': 0.34264,\n",
            "              'species': {'commonNames': ['Snake plant',\n",
            "                                          \"Mother-in-Law's Tongue\",\n",
            "                                          'Stuckyi Snake Plant'],\n",
            "                          'family': {'scientificName': 'Asparagaceae',\n",
            "                                     'scientificNameAuthorship': '',\n",
            "                                     'scientificNameWithoutAuthor': 'Asparagaceae'},\n",
            "                          'genus': {'scientificName': 'Dracaena',\n",
            "                                    'scientificNameAuthorship': '',\n",
            "                                    'scientificNameWithoutAuthor': 'Dracaena'},\n",
            "                          'scientificName': 'Dracaena stuckyi (God.-Leb.) Byng '\n",
            "                                            '& Christenh.',\n",
            "                          'scientificNameAuthorship': '(God.-Leb.) Byng & '\n",
            "                                                      'Christenh.',\n",
            "                          'scientificNameWithoutAuthor': 'Dracaena stuckyi'}},\n",
            "             {'gbif': {'id': '11041822'},\n",
            "              'powo': {'id': '77164235-1'},\n",
            "              'score': 0.22706,\n",
            "              'species': {'commonNames': ['Mother in laws tongue',\n",
            "                                          'Snake plant',\n",
            "                                          'African bowstring hemp'],\n",
            "                          'family': {'scientificName': 'Asparagaceae',\n",
            "                                     'scientificNameAuthorship': '',\n",
            "                                     'scientificNameWithoutAuthor': 'Asparagaceae'},\n",
            "                          'genus': {'scientificName': 'Dracaena',\n",
            "                                    'scientificNameAuthorship': '',\n",
            "                                    'scientificNameWithoutAuthor': 'Dracaena'},\n",
            "                          'scientificName': 'Dracaena trifasciata (Prain) '\n",
            "                                            'Mabb.',\n",
            "                          'scientificNameAuthorship': '(Prain) Mabb.',\n",
            "                          'scientificNameWithoutAuthor': 'Dracaena '\n",
            "                                                         'trifasciata'}},\n",
            "             {'gbif': {'id': '10754273'},\n",
            "              'powo': {'id': '77164234-1'},\n",
            "              'score': 0.05749,\n",
            "              'species': {'commonNames': ['Snake plant'],\n",
            "                          'family': {'scientificName': 'Asparagaceae',\n",
            "                                     'scientificNameAuthorship': '',\n",
            "                                     'scientificNameWithoutAuthor': 'Asparagaceae'},\n",
            "                          'genus': {'scientificName': 'Dracaena',\n",
            "                                    'scientificNameAuthorship': '',\n",
            "                                    'scientificNameWithoutAuthor': 'Dracaena'},\n",
            "                          'scientificName': 'Dracaena hyacinthoides (L.) Mabb.',\n",
            "                          'scientificNameAuthorship': '(L.) Mabb.',\n",
            "                          'scientificNameWithoutAuthor': 'Dracaena '\n",
            "                                                         'hyacinthoides'}},\n",
            "             {'gbif': {'id': '10774703'},\n",
            "              'powo': {'id': '77164236-1'},\n",
            "              'score': 0.00748,\n",
            "              'species': {'commonNames': [],\n",
            "                          'family': {'scientificName': 'Asparagaceae',\n",
            "                                     'scientificNameAuthorship': '',\n",
            "                                     'scientificNameWithoutAuthor': 'Asparagaceae'},\n",
            "                          'genus': {'scientificName': 'Dracaena',\n",
            "                                    'scientificNameAuthorship': '',\n",
            "                                    'scientificNameWithoutAuthor': 'Dracaena'},\n",
            "                          'scientificName': 'Dracaena zeylanica (L.) Mabb.',\n",
            "                          'scientificNameAuthorship': '(L.) Mabb.',\n",
            "                          'scientificNameWithoutAuthor': 'Dracaena zeylanica'}},\n",
            "             {'gbif': {'id': '10956312'},\n",
            "              'powo': {'id': '77183391-1'},\n",
            "              'score': 0.00449,\n",
            "              'species': {'commonNames': ['Whale Fin Plant'],\n",
            "                          'family': {'scientificName': 'Asparagaceae',\n",
            "                                     'scientificNameAuthorship': '',\n",
            "                                     'scientificNameWithoutAuthor': 'Asparagaceae'},\n",
            "                          'genus': {'scientificName': 'Dracaena',\n",
            "                                    'scientificNameAuthorship': '',\n",
            "                                    'scientificNameWithoutAuthor': 'Dracaena'},\n",
            "                          'scientificName': 'Dracaena masoniana (Chahin.) Byng '\n",
            "                                            '& Christenh.',\n",
            "                          'scientificNameAuthorship': '(Chahin.) Byng & '\n",
            "                                                      'Christenh.',\n",
            "                          'scientificNameWithoutAuthor': 'Dracaena masoniana'}},\n",
            "             {'gbif': {'id': '10927291'},\n",
            "              'powo': {'id': '77183403-1'},\n",
            "              'score': 0.00419,\n",
            "              'species': {'commonNames': [],\n",
            "                          'family': {'scientificName': 'Asparagaceae',\n",
            "                                     'scientificNameAuthorship': '',\n",
            "                                     'scientificNameWithoutAuthor': 'Asparagaceae'},\n",
            "                          'genus': {'scientificName': 'Dracaena',\n",
            "                                    'scientificNameAuthorship': '',\n",
            "                                    'scientificNameWithoutAuthor': 'Dracaena'},\n",
            "                          'scientificName': 'Dracaena aethiopica (Thunb.) Byng '\n",
            "                                            '& Christenh.',\n",
            "                          'scientificNameAuthorship': '(Thunb.) Byng & '\n",
            "                                                      'Christenh.',\n",
            "                          'scientificNameWithoutAuthor': 'Dracaena '\n",
            "                                                         'aethiopica'}},\n",
            "             {'gbif': {'id': '2778759'},\n",
            "              'powo': {'id': '535820-1'},\n",
            "              'score': 0.00183,\n",
            "              'species': {'commonNames': ['Cattle Tongue'],\n",
            "                          'family': {'scientificName': 'Asphodelaceae',\n",
            "                                     'scientificNameAuthorship': '',\n",
            "                                     'scientificNameWithoutAuthor': 'Asphodelaceae'},\n",
            "                          'genus': {'scientificName': 'Gasteria',\n",
            "                                    'scientificNameAuthorship': '',\n",
            "                                    'scientificNameWithoutAuthor': 'Gasteria'},\n",
            "                          'scientificName': 'Gasteria pillansii Kensit',\n",
            "                          'scientificNameAuthorship': 'Kensit',\n",
            "                          'scientificNameWithoutAuthor': 'Gasteria pillansii'}},\n",
            "             {'gbif': {'id': '10948607'},\n",
            "              'powo': {'id': '77183691-1'},\n",
            "              'score': 0.00163,\n",
            "              'species': {'commonNames': ['Sansevieria'],\n",
            "                          'family': {'scientificName': 'Asparagaceae',\n",
            "                                     'scientificNameAuthorship': '',\n",
            "                                     'scientificNameWithoutAuthor': 'Asparagaceae'},\n",
            "                          'genus': {'scientificName': 'Dracaena',\n",
            "                                    'scientificNameAuthorship': '',\n",
            "                                    'scientificNameWithoutAuthor': 'Dracaena'},\n",
            "                          'scientificName': 'Dracaena francisii (Chahin.) Byng '\n",
            "                                            '& Christenh.',\n",
            "                          'scientificNameAuthorship': '(Chahin.) Byng & '\n",
            "                                                      'Christenh.',\n",
            "                          'scientificNameWithoutAuthor': 'Dracaena francisii'}},\n",
            "             {'gbif': {'id': '3086368'},\n",
            "              'powo': {'id': '679043-1'},\n",
            "              'score': 0.00104,\n",
            "              'species': {'commonNames': ['Spotted peperomia'],\n",
            "                          'family': {'scientificName': 'Piperaceae',\n",
            "                                     'scientificNameAuthorship': '',\n",
            "                                     'scientificNameWithoutAuthor': 'Piperaceae'},\n",
            "                          'genus': {'scientificName': 'Peperomia',\n",
            "                                    'scientificNameAuthorship': '',\n",
            "                                    'scientificNameWithoutAuthor': 'Peperomia'},\n",
            "                          'scientificName': 'Peperomia maculosa (L.) Hook.',\n",
            "                          'scientificNameAuthorship': '(L.) Hook.',\n",
            "                          'scientificNameWithoutAuthor': 'Peperomia '\n",
            "                                                         'maculosa'}}],\n",
            " 'version': '2024-02-22 (7.1)'}\n"
          ]
        }
      ]
    },
    {
      "cell_type": "markdown",
      "source": [
        "## 結果"
      ],
      "metadata": {
        "id": "p_l-2ZMp5ybJ"
      }
    },
    {
      "cell_type": "code",
      "source": [
        "print(json_result['bestMatch'])\n",
        "print(json_result['results'][0]['score'])"
      ],
      "metadata": {
        "colab": {
          "base_uri": "https://localhost:8080/"
        },
        "id": "ERtH6gSx5l9i",
        "outputId": "5a04d29a-c979-4e59-e063-f9efbdb0db1a"
      },
      "execution_count": 18,
      "outputs": [
        {
          "output_type": "stream",
          "name": "stdout",
          "text": [
            "Dracaena stuckyi (God.-Leb.) Byng & Christenh.\n",
            "0.34264\n"
          ]
        }
      ]
    },
    {
      "cell_type": "markdown",
      "source": [
        "## 圖源 : 空氣鳳梨\n",
        "### 學名 : Tillandsia ionantha"
      ],
      "metadata": {
        "id": "lp8h1EK16EKY"
      }
    },
    {
      "cell_type": "code",
      "source": [
        "## 示範:採用多視角圖，辨識同一個植物(提高準確度)\n",
        "image_urls = ['https://shoplineimg.com/6295e0f2d7d1ac0032a2a3fc/62bfb0670cadeb001e686931/800x.jpg']\n",
        "\n",
        "images_raw = get_image(image_urls = image_urls)\n",
        "\n",
        "\n",
        "data = {\n",
        "    'organs': ['auto']*len(images_raw) # must contains one of: leaf, flower, fruit, bark, auto.\n",
        "}\n",
        "\n",
        "files = []\n",
        "for idx,raw_data in enumerate(images_raw):\n",
        "    files.append(('images', ('', raw_data)))\n",
        "\n",
        "print(f'Number of images: {len(images_raw)}')"
      ],
      "metadata": {
        "colab": {
          "base_uri": "https://localhost:8080/"
        },
        "id": "NCUQAQet6QNP",
        "outputId": "b289ca81-bcb0-4c8e-e89e-9bb88bc60036"
      },
      "execution_count": 19,
      "outputs": [
        {
          "output_type": "stream",
          "name": "stdout",
          "text": [
            "Number of images: 1\n"
          ]
        }
      ]
    },
    {
      "cell_type": "markdown",
      "source": [
        "## 預覽目標圖片"
      ],
      "metadata": {
        "id": "0MqAQk736Vv2"
      }
    },
    {
      "cell_type": "code",
      "source": [
        "image = BytesIO(images_raw[0])\n",
        "plot_image(image)"
      ],
      "metadata": {
        "colab": {
          "base_uri": "https://localhost:8080/",
          "height": 113
        },
        "id": "T85ck0e46Xw8",
        "outputId": "5742faa0-7c5d-4b1a-b018-6a59d974ded9"
      },
      "execution_count": 20,
      "outputs": [
        {
          "output_type": "display_data",
          "data": {
            "text/plain": [
              "<PIL.JpegImagePlugin.JpegImageFile image mode=RGB size=128x96>"
            ],
            "image/png": "[encoded data removed]"
          },
          "metadata": {}
        }
      ]
    },
    {
      "cell_type": "markdown",
      "source": [
        "## 取得識別結果"
      ],
      "metadata": {
        "id": "W_mRTPNm6brS"
      }
    },
    {
      "cell_type": "code",
      "source": [
        "req = requests.Request('POST', url=api_endpoint, files=files, data=data)\n",
        "prepared = req.prepare()\n",
        "s = requests.Session()\n",
        "response = s.send(prepared)\n",
        "\n",
        "json_result = json.loads(response.text)\n",
        "\n",
        "pprint(response.status_code)"
      ],
      "metadata": {
        "colab": {
          "base_uri": "https://localhost:8080/"
        },
        "id": "N2I5eoPd6egF",
        "outputId": "31a320d0-50ae-4289-9b12-f15a4321fcde"
      },
      "execution_count": 21,
      "outputs": [
        {
          "output_type": "stream",
          "name": "stdout",
          "text": [
            "200\n"
          ]
        }
      ]
    },
    {
      "cell_type": "code",
      "source": [
        "pprint(json_result)"
      ],
      "metadata": {
        "colab": {
          "base_uri": "https://localhost:8080/"
        },
        "id": "chPETWmd6hhp",
        "outputId": "7d27d422-da81-4862-d5f0-6627a618f23f"
      },
      "execution_count": 22,
      "outputs": [
        {
          "output_type": "stream",
          "name": "stdout",
          "text": [
            "{'bestMatch': 'Tillandsia ionantha Planch.',\n",
            " 'language': 'en',\n",
            " 'preferedReferential': 'k-world-flora',\n",
            " 'query': {'images': ['7aab6cf2d0791eaa57b20ef41fd76af4'],\n",
            "           'includeRelatedImages': False,\n",
            "           'noReject': False,\n",
            "           'organs': ['auto'],\n",
            "           'project': 'all'},\n",
            " 'remainingIdentificationRequests': 493,\n",
            " 'results': [{'gbif': {'id': '2695006'},\n",
            "              'iucn': {'category': 'LC', 'id': '44393060'},\n",
            "              'powo': {'id': '125266-1'},\n",
            "              'score': 0.84012,\n",
            "              'species': {'commonNames': ['Air plant',\n",
            "                                          'Sky plant',\n",
            "                                          'Blushing Bride'],\n",
            "                          'family': {'scientificName': 'Bromeliaceae',\n",
            "                                     'scientificNameAuthorship': '',\n",
            "                                     'scientificNameWithoutAuthor': 'Bromeliaceae'},\n",
            "                          'genus': {'scientificName': 'Tillandsia',\n",
            "                                    'scientificNameAuthorship': '',\n",
            "                                    'scientificNameWithoutAuthor': 'Tillandsia'},\n",
            "                          'scientificName': 'Tillandsia ionantha Planch.',\n",
            "                          'scientificNameAuthorship': 'Planch.',\n",
            "                          'scientificNameWithoutAuthor': 'Tillandsia '\n",
            "                                                         'ionantha'}},\n",
            "             {'gbif': {'id': '7843252'},\n",
            "              'powo': {'id': '124804-1'},\n",
            "              'score': 0.01722,\n",
            "              'species': {'commonNames': ['Air Plant', 'Tillandsia'],\n",
            "                          'family': {'scientificName': 'Bromeliaceae',\n",
            "                                     'scientificNameAuthorship': '',\n",
            "                                     'scientificNameWithoutAuthor': 'Bromeliaceae'},\n",
            "                          'genus': {'scientificName': 'Tillandsia',\n",
            "                                    'scientificNameAuthorship': '',\n",
            "                                    'scientificNameWithoutAuthor': 'Tillandsia'},\n",
            "                          'scientificName': 'Tillandsia aeranthos (Loisel.) '\n",
            "                                            'Desf.',\n",
            "                          'scientificNameAuthorship': '(Loisel.) Desf.',\n",
            "                          'scientificNameWithoutAuthor': 'Tillandsia '\n",
            "                                                         'aeranthos'}},\n",
            "             {'gbif': {'id': '2695969'},\n",
            "              'iucn': {'category': 'LC', 'id': '44393356'},\n",
            "              'powo': {'id': '30019940-2'},\n",
            "              'score': 0.01335,\n",
            "              'species': {'commonNames': ['Quill leaf',\n",
            "                                          'Wild pine',\n",
            "                                          'Giant airplant'],\n",
            "                          'family': {'scientificName': 'Bromeliaceae',\n",
            "                                     'scientificNameAuthorship': '',\n",
            "                                     'scientificNameWithoutAuthor': 'Bromeliaceae'},\n",
            "                          'genus': {'scientificName': 'Tillandsia',\n",
            "                                    'scientificNameAuthorship': '',\n",
            "                                    'scientificNameWithoutAuthor': 'Tillandsia'},\n",
            "                          'scientificName': 'Tillandsia fasciculata Sw.',\n",
            "                          'scientificNameAuthorship': 'Sw.',\n",
            "                          'scientificNameWithoutAuthor': 'Tillandsia '\n",
            "                                                         'fasciculata'}},\n",
            "             {'gbif': {'id': '2695741'},\n",
            "              'powo': {'id': '254155-2'},\n",
            "              'score': 0.01258,\n",
            "              'species': {'commonNames': [],\n",
            "                          'family': {'scientificName': 'Bromeliaceae',\n",
            "                                     'scientificNameAuthorship': '',\n",
            "                                     'scientificNameWithoutAuthor': 'Bromeliaceae'},\n",
            "                          'genus': {'scientificName': 'Tillandsia',\n",
            "                                    'scientificNameAuthorship': '',\n",
            "                                    'scientificNameWithoutAuthor': 'Tillandsia'},\n",
            "                          'scientificName': 'Tillandsia pohliana Mez',\n",
            "                          'scientificNameAuthorship': 'Mez',\n",
            "                          'scientificNameWithoutAuthor': 'Tillandsia '\n",
            "                                                         'pohliana'}},\n",
            "             {'gbif': {'id': '2695736'},\n",
            "              'powo': {'id': '312580-2'},\n",
            "              'score': 0.00847,\n",
            "              'species': {'commonNames': [\"Harris's Tillandsia\",\n",
            "                                          'Harris’ tillandsia'],\n",
            "                          'family': {'scientificName': 'Bromeliaceae',\n",
            "                                     'scientificNameAuthorship': '',\n",
            "                                     'scientificNameWithoutAuthor': 'Bromeliaceae'},\n",
            "                          'genus': {'scientificName': 'Tillandsia',\n",
            "                                    'scientificNameAuthorship': '',\n",
            "                                    'scientificNameWithoutAuthor': 'Tillandsia'},\n",
            "                          'scientificName': 'Tillandsia harrisii Ehlers',\n",
            "                          'scientificNameAuthorship': 'Ehlers',\n",
            "                          'scientificNameWithoutAuthor': 'Tillandsia '\n",
            "                                                         'harrisii'}},\n",
            "             {'gbif': {'id': '2694689'},\n",
            "              'powo': {'id': '254406-2'},\n",
            "              'score': 0.00742,\n",
            "              'species': {'commonNames': ['Jumbie-pineapple',\n",
            "                                          'Wild pine',\n",
            "                                          'Giant airplant'],\n",
            "                          'family': {'scientificName': 'Bromeliaceae',\n",
            "                                     'scientificNameAuthorship': '',\n",
            "                                     'scientificNameWithoutAuthor': 'Bromeliaceae'},\n",
            "                          'genus': {'scientificName': 'Tillandsia',\n",
            "                                    'scientificNameAuthorship': '',\n",
            "                                    'scientificNameWithoutAuthor': 'Tillandsia'},\n",
            "                          'scientificName': 'Tillandsia utriculata L.',\n",
            "                          'scientificNameAuthorship': 'L.',\n",
            "                          'scientificNameWithoutAuthor': 'Tillandsia '\n",
            "                                                         'utriculata'}},\n",
            "             {'gbif': {'id': '2694927'},\n",
            "              'powo': {'id': '125526-1'},\n",
            "              'score': 0.00735,\n",
            "              'species': {'commonNames': ['Fuzzywuzzy airplant'],\n",
            "                          'family': {'scientificName': 'Bromeliaceae',\n",
            "                                     'scientificNameAuthorship': '',\n",
            "                                     'scientificNameWithoutAuthor': 'Bromeliaceae'},\n",
            "                          'genus': {'scientificName': 'Tillandsia',\n",
            "                                    'scientificNameAuthorship': '',\n",
            "                                    'scientificNameWithoutAuthor': 'Tillandsia'},\n",
            "                          'scientificName': 'Tillandsia pruinosa Sw.',\n",
            "                          'scientificNameAuthorship': 'Sw.',\n",
            "                          'scientificNameWithoutAuthor': 'Tillandsia '\n",
            "                                                         'pruinosa'}},\n",
            "             {'gbif': {'id': '2695104'},\n",
            "              'powo': {'id': '125736-1'},\n",
            "              'score': 0.00585,\n",
            "              'species': {'commonNames': ['Hairy tilland (గుఱ్ఱం జుట్టు)'],\n",
            "                          'family': {'scientificName': 'Bromeliaceae',\n",
            "                                     'scientificNameAuthorship': '',\n",
            "                                     'scientificNameWithoutAuthor': 'Bromeliaceae'},\n",
            "                          'genus': {'scientificName': 'Tillandsia',\n",
            "                                    'scientificNameAuthorship': '',\n",
            "                                    'scientificNameWithoutAuthor': 'Tillandsia'},\n",
            "                          'scientificName': 'Tillandsia tricholepis Baker',\n",
            "                          'scientificNameAuthorship': 'Baker',\n",
            "                          'scientificNameWithoutAuthor': 'Tillandsia '\n",
            "                                                         'tricholepis'}},\n",
            "             {'gbif': {'id': '2694518'},\n",
            "              'powo': {'id': '253621-2'},\n",
            "              'score': 0.00497,\n",
            "              'species': {'commonNames': ['Spreading airplant'],\n",
            "                          'family': {'scientificName': 'Bromeliaceae',\n",
            "                                     'scientificNameAuthorship': '',\n",
            "                                     'scientificNameWithoutAuthor': 'Bromeliaceae'},\n",
            "                          'genus': {'scientificName': 'Tillandsia',\n",
            "                                    'scientificNameAuthorship': '',\n",
            "                                    'scientificNameWithoutAuthor': 'Tillandsia'},\n",
            "                          'scientificName': 'Tillandsia bergeri Mez',\n",
            "                          'scientificNameAuthorship': 'Mez',\n",
            "                          'scientificNameWithoutAuthor': 'Tillandsia bergeri'}},\n",
            "             {'gbif': {'id': '2695912'},\n",
            "              'powo': {'id': '125474-1'},\n",
            "              'score': 0.00388,\n",
            "              'species': {'commonNames': ['Potbelly airplant'],\n",
            "                          'family': {'scientificName': 'Bromeliaceae',\n",
            "                                     'scientificNameAuthorship': '',\n",
            "                                     'scientificNameWithoutAuthor': 'Bromeliaceae'},\n",
            "                          'genus': {'scientificName': 'Tillandsia',\n",
            "                                    'scientificNameAuthorship': '',\n",
            "                                    'scientificNameWithoutAuthor': 'Tillandsia'},\n",
            "                          'scientificName': 'Tillandsia paucifolia Baker',\n",
            "                          'scientificNameAuthorship': 'Baker',\n",
            "                          'scientificNameWithoutAuthor': 'Tillandsia '\n",
            "                                                         'paucifolia'}},\n",
            "             {'gbif': {'id': '2695380'},\n",
            "              'iucn': {'category': 'LC', 'id': '44393188'},\n",
            "              'powo': {'id': '30010168-2'},\n",
            "              'score': 0.00371,\n",
            "              'species': {'commonNames': [],\n",
            "                          'family': {'scientificName': 'Bromeliaceae',\n",
            "                                     'scientificNameAuthorship': '',\n",
            "                                     'scientificNameWithoutAuthor': 'Bromeliaceae'},\n",
            "                          'genus': {'scientificName': 'Tillandsia',\n",
            "                                    'scientificNameAuthorship': '',\n",
            "                                    'scientificNameWithoutAuthor': 'Tillandsia'},\n",
            "                          'scientificName': 'Tillandsia latifolia Meyen',\n",
            "                          'scientificNameAuthorship': 'Meyen',\n",
            "                          'scientificNameWithoutAuthor': 'Tillandsia '\n",
            "                                                         'latifolia'}},\n",
            "             {'gbif': {'id': '2695068'},\n",
            "              'powo': {'id': '125690-1'},\n",
            "              'score': 0.00349,\n",
            "              'species': {'commonNames': ['Airplant'],\n",
            "                          'family': {'scientificName': 'Bromeliaceae',\n",
            "                                     'scientificNameAuthorship': '',\n",
            "                                     'scientificNameWithoutAuthor': 'Bromeliaceae'},\n",
            "                          'genus': {'scientificName': 'Tillandsia',\n",
            "                                    'scientificNameAuthorship': '',\n",
            "                                    'scientificNameWithoutAuthor': 'Tillandsia'},\n",
            "                          'scientificName': 'Tillandsia stricta Sol. ex Ker '\n",
            "                                            'Gawl.',\n",
            "                          'scientificNameAuthorship': 'Sol. ex Ker Gawl.',\n",
            "                          'scientificNameWithoutAuthor': 'Tillandsia stricta'}},\n",
            "             {'gbif': {'id': '2694730'},\n",
            "              'powo': {'id': '125571-1'},\n",
            "              'score': 0.00318,\n",
            "              'species': {'commonNames': [],\n",
            "                          'family': {'scientificName': 'Bromeliaceae',\n",
            "                                     'scientificNameAuthorship': '',\n",
            "                                     'scientificNameWithoutAuthor': 'Bromeliaceae'},\n",
            "                          'genus': {'scientificName': 'Tillandsia',\n",
            "                                    'scientificNameAuthorship': '',\n",
            "                                    'scientificNameWithoutAuthor': 'Tillandsia'},\n",
            "                          'scientificName': 'Tillandsia retorta Griseb. ex '\n",
            "                                            'Baker',\n",
            "                          'scientificNameAuthorship': 'Griseb. ex Baker',\n",
            "                          'scientificNameWithoutAuthor': 'Tillandsia retorta'}},\n",
            "             {'gbif': {'id': '2695564'},\n",
            "              'powo': {'id': '1050756-2'},\n",
            "              'score': 0.00292,\n",
            "              'species': {'commonNames': ['Parásita', 'Airplant'],\n",
            "                          'family': {'scientificName': 'Bromeliaceae',\n",
            "                                     'scientificNameAuthorship': '',\n",
            "                                     'scientificNameWithoutAuthor': 'Bromeliaceae'},\n",
            "                          'genus': {'scientificName': 'Tillandsia',\n",
            "                                    'scientificNameAuthorship': '',\n",
            "                                    'scientificNameWithoutAuthor': 'Tillandsia'},\n",
            "                          'scientificName': 'Tillandsia polystachia (L.) L.',\n",
            "                          'scientificNameAuthorship': '(L.) L.',\n",
            "                          'scientificNameWithoutAuthor': 'Tillandsia '\n",
            "                                                         'polystachia'}},\n",
            "             {'gbif': {'id': '2695884'},\n",
            "              'powo': {'id': '20005089-1'},\n",
            "              'score': 0.00274,\n",
            "              'species': {'commonNames': [],\n",
            "                          'family': {'scientificName': 'Bromeliaceae',\n",
            "                                     'scientificNameAuthorship': '',\n",
            "                                     'scientificNameWithoutAuthor': 'Bromeliaceae'},\n",
            "                          'genus': {'scientificName': 'Tillandsia',\n",
            "                                    'scientificNameAuthorship': '',\n",
            "                                    'scientificNameWithoutAuthor': 'Tillandsia'},\n",
            "                          'scientificName': 'Tillandsia jonesii Strehl',\n",
            "                          'scientificNameAuthorship': 'Strehl',\n",
            "                          'scientificNameWithoutAuthor': 'Tillandsia jonesii'}},\n",
            "             {'gbif': {'id': '2695950'},\n",
            "              'powo': {'id': '253720-2'},\n",
            "              'score': 0.00259,\n",
            "              'species': {'commonNames': [],\n",
            "                          'family': {'scientificName': 'Bromeliaceae',\n",
            "                                     'scientificNameAuthorship': '',\n",
            "                                     'scientificNameWithoutAuthor': 'Bromeliaceae'},\n",
            "                          'genus': {'scientificName': 'Tillandsia',\n",
            "                                    'scientificNameAuthorship': '',\n",
            "                                    'scientificNameWithoutAuthor': 'Tillandsia'},\n",
            "                          'scientificName': 'Tillandsia concolor L.B.Sm.',\n",
            "                          'scientificNameAuthorship': 'L.B.Sm.',\n",
            "                          'scientificNameWithoutAuthor': 'Tillandsia '\n",
            "                                                         'concolor'}},\n",
            "             {'gbif': {'id': '2695995'},\n",
            "              'powo': {'id': '253596-2'},\n",
            "              'score': 0.00197,\n",
            "              'species': {'commonNames': [],\n",
            "                          'family': {'scientificName': 'Bromeliaceae',\n",
            "                                     'scientificNameAuthorship': '',\n",
            "                                     'scientificNameWithoutAuthor': 'Bromeliaceae'},\n",
            "                          'genus': {'scientificName': 'Tillandsia',\n",
            "                                    'scientificNameAuthorship': '',\n",
            "                                    'scientificNameWithoutAuthor': 'Tillandsia'},\n",
            "                          'scientificName': 'Tillandsia atroviridipetala '\n",
            "                                            'Matuda',\n",
            "                          'scientificNameAuthorship': 'Matuda',\n",
            "                          'scientificNameWithoutAuthor': 'Tillandsia '\n",
            "                                                         'atroviridipetala'}},\n",
            "             {'gbif': {'id': '2695328'},\n",
            "              'iucn': {'category': 'LC', 'id': '44393124'},\n",
            "              'powo': {'id': '124896-1'},\n",
            "              'score': 0.00193,\n",
            "              'species': {'commonNames': ['Tree Orchid'],\n",
            "                          'family': {'scientificName': 'Bromeliaceae',\n",
            "                                     'scientificNameAuthorship': '',\n",
            "                                     'scientificNameWithoutAuthor': 'Bromeliaceae'},\n",
            "                          'genus': {'scientificName': 'Tillandsia',\n",
            "                                    'scientificNameAuthorship': '',\n",
            "                                    'scientificNameWithoutAuthor': 'Tillandsia'},\n",
            "                          'scientificName': 'Tillandsia brachycaulos Schltdl.',\n",
            "                          'scientificNameAuthorship': 'Schltdl.',\n",
            "                          'scientificNameWithoutAuthor': 'Tillandsia '\n",
            "                                                         'brachycaulos'}},\n",
            "             {'gbif': {'id': '2695059'},\n",
            "              'powo': {'id': '125563-1'},\n",
            "              'score': 0.00182,\n",
            "              'species': {'commonNames': [],\n",
            "                          'family': {'scientificName': 'Bromeliaceae',\n",
            "                                     'scientificNameAuthorship': '',\n",
            "                                     'scientificNameWithoutAuthor': 'Bromeliaceae'},\n",
            "                          'genus': {'scientificName': 'Tillandsia',\n",
            "                                    'scientificNameAuthorship': '',\n",
            "                                    'scientificNameWithoutAuthor': 'Tillandsia'},\n",
            "                          'scientificName': 'Tillandsia recurvifolia Hook.',\n",
            "                          'scientificNameAuthorship': 'Hook.',\n",
            "                          'scientificNameWithoutAuthor': 'Tillandsia '\n",
            "                                                         'recurvifolia'}},\n",
            "             {'gbif': {'id': '2694760'},\n",
            "              'powo': {'id': '253562-2'},\n",
            "              'score': 0.0018,\n",
            "              'species': {'commonNames': [],\n",
            "                          'family': {'scientificName': 'Bromeliaceae',\n",
            "                                     'scientificNameAuthorship': '',\n",
            "                                     'scientificNameWithoutAuthor': 'Bromeliaceae'},\n",
            "                          'genus': {'scientificName': 'Tillandsia',\n",
            "                                    'scientificNameAuthorship': '',\n",
            "                                    'scientificNameWithoutAuthor': 'Tillandsia'},\n",
            "                          'scientificName': 'Tillandsia albida Mez & Purpus',\n",
            "                          'scientificNameAuthorship': 'Mez & Purpus',\n",
            "                          'scientificNameWithoutAuthor': 'Tillandsia albida'}},\n",
            "             {'gbif': {'id': '3094939'},\n",
            "              'powo': {'id': '235361-1'},\n",
            "              'score': 0.00124,\n",
            "              'species': {'commonNames': ['Taurian thistle',\n",
            "                                          'Scotch thistle',\n",
            "                                          'Scottish thistle'],\n",
            "                          'family': {'scientificName': 'Asteraceae',\n",
            "                                     'scientificNameAuthorship': '',\n",
            "                                     'scientificNameWithoutAuthor': 'Asteraceae'},\n",
            "                          'genus': {'scientificName': 'Onopordum',\n",
            "                                    'scientificNameAuthorship': '',\n",
            "                                    'scientificNameWithoutAuthor': 'Onopordum'},\n",
            "                          'scientificName': 'Onopordum tauricum Willd.',\n",
            "                          'scientificNameAuthorship': 'Willd.',\n",
            "                          'scientificNameWithoutAuthor': 'Onopordum tauricum'}},\n",
            "             {'gbif': {'id': '2695541'},\n",
            "              'powo': {'id': '254417-2'},\n",
            "              'score': 0.00106,\n",
            "              'species': {'commonNames': [],\n",
            "                          'family': {'scientificName': 'Bromeliaceae',\n",
            "                                     'scientificNameAuthorship': '',\n",
            "                                     'scientificNameWithoutAuthor': 'Bromeliaceae'},\n",
            "                          'genus': {'scientificName': 'Tillandsia',\n",
            "                                    'scientificNameAuthorship': '',\n",
            "                                    'scientificNameWithoutAuthor': 'Tillandsia'},\n",
            "                          'scientificName': 'Tillandsia vernicosa Baker',\n",
            "                          'scientificNameAuthorship': 'Baker',\n",
            "                          'scientificNameWithoutAuthor': 'Tillandsia '\n",
            "                                                         'vernicosa'}}],\n",
            " 'version': '2024-02-22 (7.1)'}\n"
          ]
        }
      ]
    },
    {
      "cell_type": "markdown",
      "source": [
        "## 結果"
      ],
      "metadata": {
        "id": "HnKJCwU56CZH"
      }
    },
    {
      "cell_type": "code",
      "source": [
        "print(json_result['bestMatch'])\n",
        "print(json_result['results'][0]['score'])"
      ],
      "metadata": {
        "colab": {
          "base_uri": "https://localhost:8080/"
        },
        "id": "F0wLru6O6lkV",
        "outputId": "8ce7d783-7977-4775-a950-aed1b00902e7"
      },
      "execution_count": 23,
      "outputs": [
        {
          "output_type": "stream",
          "name": "stdout",
          "text": [
            "Tillandsia ionantha Planch.\n",
            "0.84012\n"
          ]
        }
      ]
    }
  ]
}